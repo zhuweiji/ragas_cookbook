{
 "cells": [
  {
   "cell_type": "code",
   "execution_count": 3,
   "metadata": {},
   "outputs": [
    {
     "name": "stdout",
     "output_type": "stream",
     "text": [
      "validating model exists...\n"
     ]
    }
   ],
   "source": [
    "from langchain_core.prompts import ChatPromptTemplate, MessagesPlaceholder\n",
    "from langchain_community.vectorstores import Chroma\n",
    "\n",
    "import sys\n",
    "from pathlib import Path\n",
    "\n",
    "sys.path.append(str(Path.cwd().parents[1])) #nopep8\n",
    "\n",
    "from langchain_community.document_loaders import DirectoryLoader\n",
    "from langchain_community.embeddings import OllamaEmbeddings\n",
    "from langchain_community.llms import Ollama\n",
    "from langchain_core.messages import AIMessage, BaseMessage, HumanMessage\n",
    "\n",
    "from utilities.project_paths import sample_document_dirpath\n",
    "from utilities.ollama import verify_ollama_model_present\n",
    "\n",
    "\n",
    "MODEL_NAME = \"openchat\"\n",
    "# https://ollama.com/library/openchat\n",
    "\n",
    "generator_llm = Ollama(model=MODEL_NAME)\n",
    "embeddings = OllamaEmbeddings(model=MODEL_NAME)\n",
    "\n",
    "# make sure that the ollama is available to use locally (might need to ollama pull)\n",
    "verify_ollama_model_present(\"openchat\")"
   ]
  },
  {
   "cell_type": "code",
   "execution_count": 34,
   "metadata": {},
   "outputs": [],
   "source": [
    "from langchain_text_splitters import CharacterTextSplitter\n",
    "from langchain_community.document_loaders import UnstructuredMarkdownLoader\n",
    "\n",
    "from langchain_community.embeddings.sentence_transformer import (\n",
    "    SentenceTransformerEmbeddings,\n",
    ")\n",
    "\n",
    "# load the document and split it into chunks\n",
    "document_path = sample_document_dirpath / 'cross_service.md'\n",
    "loader = UnstructuredMarkdownLoader(str(document_path))\n",
    "documents = loader.load()\n",
    "\n",
    "# split it into chunks\n",
    "text_splitter = CharacterTextSplitter(chunk_size=1000, chunk_overlap=200)\n",
    "docs = text_splitter.split_documents(documents)\n",
    "\n",
    "# load it into Chroma\n",
    "db = Chroma.from_documents(docs, embeddings, persist_directory=\"./chroma_db\")"
   ]
  },
  {
   "cell_type": "code",
   "execution_count": 35,
   "metadata": {},
   "outputs": [
    {
     "data": {
      "text/plain": [
       "[Document(page_content='Aurora\\nAmazon SES\\n\\nAmazon Aurora Serverless REST API lending library example\\nShows how to use the Amazon Relational Database Service (Amazon RDS) API and \\nAWS Chalice to create a REST API backed by an Amazon Aurora database. The web \\nservice is fully serverless and represents a simple lending library where patrons \\ncan borrow and return books.\\n\\nAmazon API Gateway\\nAWS Lambda\\nAmazon RDS\\nAWS Secrets Manager\\n\\nTrack work items in a DynamoDB table\\nShows how to create a REST service that lets you store work items in an \\nAmazon DynamoDB table and use Amazon Simple Email Service (Amazon SES) \\nto send email reports of work items.\\n\\nAmazon DynamoDB\\nAmazon SES\\n\\nAnalyzing photos using Amazon Rekognition\\nShows you how to create a web application that lets you upload photos to an \\nAmazon Simple Storage Service (Amazon S3) bucket, use Amazon Rekognition to analyze \\nand label the photos, and use Amazon Simple Email Service (Amazon SES) to send \\nemail reports of image analysis.', metadata={'source': 'd:\\\\projects\\\\testbed\\\\ragas_cookbook\\\\sample_documents\\\\cross_service.md'}),\n",
       " Document(page_content='Aurora\\nAmazon SES\\n\\nAmazon Aurora Serverless REST API lending library example\\nShows how to use the Amazon Relational Database Service (Amazon RDS) API and \\nAWS Chalice to create a REST API backed by an Amazon Aurora database. The web \\nservice is fully serverless and represents a simple lending library where patrons \\ncan borrow and return books.\\n\\nAmazon API Gateway\\nAWS Lambda\\nAmazon RDS\\nAWS Secrets Manager\\n\\nTrack work items in a DynamoDB table\\nShows how to create a REST service that lets you store work items in an \\nAmazon DynamoDB table and use Amazon Simple Email Service (Amazon SES) \\nto send email reports of work items.\\n\\nAmazon DynamoDB\\nAmazon SES\\n\\nAnalyzing photos using Amazon Rekognition\\nShows you how to create a web application that lets you upload photos to an \\nAmazon Simple Storage Service (Amazon S3) bucket, use Amazon Rekognition to analyze \\nand label the photos, and use Amazon Simple Email Service (Amazon SES) to send \\nemail reports of image analysis.', metadata={'source': 'd:\\\\projects\\\\testbed\\\\ragas_cookbook\\\\sample_documents\\\\cross_service.md'}),\n",
       " Document(page_content='Amazon Rekognition\\nAmazon S3\\nAmazon SES\\n\\nModerate content using Amazon Rekognition with URL support\\nShows you how to create a Lambda function that analyzes images with Amazon \\nRekognition to moderate content. The Lambda function is invoked by API Gateway\\nso that you can POST content to the API Gateway URL to receive moderation data.\\n\\nAmazon API Gateway\\nAWS CloudFormation\\nAWS Lambda\\nAmazon Rekognition\\n\\nAWS Step Functions messenger example\\nShows how to use AWS Step Functions to create and run a state machine that \\nretrieves message records from Amazon DynamoDB and sends messages to an \\nAmazon Simple Queue Service (Amazon SQS) queue.\\n\\nAWS CloudFormation\\nAmazon DynamoDB\\nAWS Lambda\\nAmazon SQS\\nAWS Step Functions', metadata={'source': 'd:\\\\projects\\\\testbed\\\\ragas_cookbook\\\\sample_documents\\\\cross_service.md'}),\n",
       " Document(page_content='Amazon Rekognition\\nAmazon S3\\nAmazon SES\\n\\nModerate content using Amazon Rekognition with URL support\\nShows you how to create a Lambda function that analyzes images with Amazon \\nRekognition to moderate content. The Lambda function is invoked by API Gateway\\nso that you can POST content to the API Gateway URL to receive moderation data.\\n\\nAmazon API Gateway\\nAWS CloudFormation\\nAWS Lambda\\nAmazon Rekognition\\n\\nAWS Step Functions messenger example\\nShows how to use AWS Step Functions to create and run a state machine that \\nretrieves message records from Amazon DynamoDB and sends messages to an \\nAmazon Simple Queue Service (Amazon SQS) queue.\\n\\nAWS CloudFormation\\nAmazon DynamoDB\\nAWS Lambda\\nAmazon SQS\\nAWS Step Functions', metadata={'source': 'd:\\\\projects\\\\testbed\\\\ragas_cookbook\\\\sample_documents\\\\cross_service.md'})]"
      ]
     },
     "execution_count": 35,
     "metadata": {},
     "output_type": "execute_result"
    }
   ],
   "source": [
    "query = \"What AWS services might I use for creating a websocket chat?\"\n",
    "docs = db.similarity_search(query)\n",
    "\n",
    "# print results\n",
    "# print(docs[0].page_content)\n",
    "docs"
   ]
  },
  {
   "cell_type": "code",
   "execution_count": null,
   "metadata": {},
   "outputs": [],
   "source": []
  }
 ],
 "metadata": {
  "kernelspec": {
   "display_name": "venv",
   "language": "python",
   "name": "python3"
  },
  "language_info": {
   "codemirror_mode": {
    "name": "ipython",
    "version": 3
   },
   "file_extension": ".py",
   "mimetype": "text/x-python",
   "name": "python",
   "nbconvert_exporter": "python",
   "pygments_lexer": "ipython3",
   "version": "3.10.8"
  }
 },
 "nbformat": 4,
 "nbformat_minor": 2
}
