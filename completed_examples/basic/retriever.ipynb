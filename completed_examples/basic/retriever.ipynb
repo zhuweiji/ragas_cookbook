{
 "cells": [
  {
   "cell_type": "code",
   "execution_count": 7,
   "metadata": {},
   "outputs": [
    {
     "name": "stdout",
     "output_type": "stream",
     "text": [
      "validating model exists...\n"
     ]
    }
   ],
   "source": [
    "from langchain_core.prompts import ChatPromptTemplate, MessagesPlaceholder\n",
    "from langchain_community.vectorstores import Chroma\n",
    "\n",
    "import sys\n",
    "from pathlib import Path\n",
    "\n",
    "sys.path.append(\n",
    "    str(Path.cwd().parents[1])\n",
    ")\n",
    "\n",
    "from langchain_community.document_loaders import DirectoryLoader\n",
    "from langchain_community.embeddings import OllamaEmbeddings\n",
    "from langchain_community.llms import Ollama\n",
    "from langchain_core.messages import AIMessage, BaseMessage, HumanMessage\n",
    "\n",
    "from utilities.project_paths import project_root\n",
    "from utilities.ollama import verify_ollama_model_present\n",
    "\n",
    "\n",
    "MODEL_NAME = \"openchat\"\n",
    "# https://ollama.com/library/openchat\n",
    "\n",
    "generator_llm = Ollama(model=MODEL_NAME)\n",
    "embeddings = OllamaEmbeddings(model=MODEL_NAME)\n",
    "\n",
    "# make sure that the ollama is available to use locally (might need to ollama pull)\n",
    "verify_ollama_model_present(\"openchat\")\n"
   ]
  },
  {
   "cell_type": "code",
   "execution_count": 9,
   "metadata": {},
   "outputs": [],
   "source": [
    "from langchain_text_splitters import CharacterTextSplitter\n",
    "from langchain_community.document_loaders import UnstructuredMarkdownLoader\n",
    "\n",
    "from langchain_community.embeddings.sentence_transformer import (\n",
    "    SentenceTransformerEmbeddings,\n",
    ")\n",
    "\n",
    "# load the document and split it into chunks\n",
    "document_path = project_root / 'sample_documents' / 'cross_service.md'\n",
    "loader = UnstructuredMarkdownLoader(str(document_path))\n",
    "documents = loader.load()\n",
    "\n",
    "# split it into chunks\n",
    "text_splitter = CharacterTextSplitter(chunk_size=1000, chunk_overlap=200)\n",
    "docs = text_splitter.split_documents(documents)\n",
    "\n",
    "# load it into Chroma\n",
    "db = Chroma.from_documents(docs, embeddings, persist_directory=\"./chroma_db\")"
   ]
  },
  {
   "cell_type": "code",
   "execution_count": 11,
   "metadata": {},
   "outputs": [
    {
     "data": {
      "text/plain": [
       "[Document(page_content='Aurora\\nAmazon SES\\n\\nAmazon Aurora Serverless REST API lending library example\\nShows how to use the Amazon Relational Database Service (Amazon RDS) API and \\nAWS Chalice to create a REST API backed by an Amazon Aurora database. The web \\nservice is fully serverless and represents a simple lending library where patrons \\ncan borrow and return books.\\n\\nAmazon API Gateway\\nAWS Lambda\\nAmazon RDS\\nAWS Secrets Manager\\n\\nTrack work items in a DynamoDB table\\nShows how to create a REST service that lets you store work items in an \\nAmazon DynamoDB table and use Amazon Simple Email Service (Amazon SES) \\nto send email reports of work items.\\n\\nAmazon DynamoDB\\nAmazon SES\\n\\nAnalyzing photos using Amazon Rekognition\\nShows you how to create a web application that lets you upload photos to an \\nAmazon Simple Storage Service (Amazon S3) bucket, use Amazon Rekognition to analyze \\nand label the photos, and use Amazon Simple Email Service (Amazon SES) to send \\nemail reports of image analysis.', metadata={'source': 'd:\\\\projects\\\\testbed\\\\ragas_cookbook\\\\sample_documents\\\\cross_service.md'}),\n",
       " Document(page_content='Amazon Rekognition\\nAmazon S3\\nAmazon SES\\n\\nModerate content using Amazon Rekognition with URL support\\nShows you how to create a Lambda function that analyzes images with Amazon \\nRekognition to moderate content. The Lambda function is invoked by API Gateway\\nso that you can POST content to the API Gateway URL to receive moderation data.\\n\\nAmazon API Gateway\\nAWS CloudFormation\\nAWS Lambda\\nAmazon Rekognition\\n\\nAWS Step Functions messenger example\\nShows how to use AWS Step Functions to create and run a state machine that \\nretrieves message records from Amazon DynamoDB and sends messages to an \\nAmazon Simple Queue Service (Amazon SQS) queue.\\n\\nAWS CloudFormation\\nAmazon DynamoDB\\nAWS Lambda\\nAmazon SQS\\nAWS Step Functions', metadata={'source': 'd:\\\\projects\\\\testbed\\\\ragas_cookbook\\\\sample_documents\\\\cross_service.md'}),\n",
       " Document(page_content='AWS CloudFormation\\nAmazon DynamoDB\\nAWS Lambda\\nAmazon SQS\\nAWS Step Functions\\n\\nDetect entities in extracted text using a Jupyter notebook\\nShows how to use a Jupyter notebook to detect entities in text that is extracted \\nfrom an image. This example uses Amazon Textract to extract text from an image \\nstored in Amazon Simple Storage Service (Amazon S3) and Amazon Comprehend to detect \\nentities in the extracted text.\\n\\nAmazon Comprehend\\nAmazon S3\\nAmazon Textract\\n\\nAmazon Textract explorer example\\nShows how to use Amazon Textract to detect text, form, and table elements in a \\ndocument image. The input image and Textract output are shown in a Tkinter \\napplication that lets you explore the detected elements. The application starts\\nasynchronous jobs, publishes notifications to an Amazon Simple Notification \\nService (Amazon SNS) topic when the job completes, and polls an Amazon Simple \\nQueue Service (Amazon SQS) queue for a job completion message and displays the \\nresults.', metadata={'source': 'd:\\\\projects\\\\testbed\\\\ragas_cookbook\\\\sample_documents\\\\cross_service.md'}),\n",
       " Document(page_content='This code is not tested in every AWS Region. For more information, see AWS Regional Services.\\n\\nCross-service examples\\n\\nAWS Chalice and AWS Lambda REST API example\\nShows how to use AWS Chalice to create a serverless REST API that uses \\nAmazon API Gateway, AWS Lambda, and Amazon DynamoDB. The REST API simulates a \\nsystem that tracks daily cases of COVID-19 in the United States, using fictional \\ndata.\\n\\nAmazon API Gateway\\nAWS CloudFormation\\nAmazon DynamoDB\\nAWS Lambda\\n\\nAmazon API Gateway websocket chat example\\nShows how to use Amazon API Gateway V2 to create a websocket API that integrates \\nwith AWS Lambda and Amazon DynamoDB.\\n\\nAmazon API Gateway\\nAmazon DynamoDB\\nAWS Lambda\\n\\nTrack work items in an Aurora Serverless database\\nShows how to create a REST service that lets you store work items in an \\nAmazon Aurora Serverless database and use Amazon Simple Email Service (Amazon SES) \\nto send email reports of work items.\\n\\nAurora\\nAmazon SES', metadata={'source': 'd:\\\\projects\\\\testbed\\\\ragas_cookbook\\\\sample_documents\\\\cross_service.md'})]"
      ]
     },
     "execution_count": 11,
     "metadata": {},
     "output_type": "execute_result"
    }
   ],
   "source": [
    "query = \"What AWS services might I use for creating a websocket chat?\"\n",
    "docs = db.similarity_search(query)\n",
    "\n",
    "# print results\n",
    "# print(docs[0].page_content)\n",
    "docs"
   ]
  },
  {
   "cell_type": "code",
   "execution_count": null,
   "metadata": {},
   "outputs": [],
   "source": []
  }
 ],
 "metadata": {
  "kernelspec": {
   "display_name": "venv",
   "language": "python",
   "name": "python3"
  },
  "language_info": {
   "codemirror_mode": {
    "name": "ipython",
    "version": 3
   },
   "file_extension": ".py",
   "mimetype": "text/x-python",
   "name": "python",
   "nbconvert_exporter": "python",
   "pygments_lexer": "ipython3",
   "version": "3.10.8"
  }
 },
 "nbformat": 4,
 "nbformat_minor": 2
}
