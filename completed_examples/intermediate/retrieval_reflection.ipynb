{
 "cells": [
  {
   "cell_type": "code",
   "execution_count": null,
   "metadata": {},
   "outputs": [],
   "source": [
    "# https://arxiv.org/abs/2303.11366\n",
    "\n",
    "# https://blog.langchain.dev/reflection-agents/\n",
    "# https://github.com/langchain-ai/langgraph/blob/main/examples/reflexion/reflexion.ipynb?ref=blog.langchain.dev\n",
    "\n",
    "# https://colab.research.google.com/drive/1_8r0Tj-f2UyRZ4SBuaP-RfhdUeXXxu0Z?usp=sharing#scrollTo=UvcgbHf1rIXZ"
   ]
  }
 ],
 "metadata": {
  "language_info": {
   "name": "python"
  }
 },
 "nbformat": 4,
 "nbformat_minor": 2
}
