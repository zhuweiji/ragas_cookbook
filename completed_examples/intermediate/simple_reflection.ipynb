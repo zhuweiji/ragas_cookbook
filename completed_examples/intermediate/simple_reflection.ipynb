{
 "cells": [
  {
   "cell_type": "code",
   "execution_count": 1,
   "metadata": {},
   "outputs": [],
   "source": [
    "# https://blog.langchain.dev/reflection-agents/\n",
    "\n",
    "# https://github.com/langchain-ai/langgraph/blob/main/examples/reflection/reflection.ipynb?ref=blog.langchain.dev"
   ]
  },
  {
   "cell_type": "markdown",
   "metadata": {},
   "source": [
    "## Generation LLM\n",
    "\n",
    "Here, we set up the generation llm "
   ]
  },
  {
   "cell_type": "code",
   "execution_count": 2,
   "metadata": {},
   "outputs": [
    {
     "name": "stdout",
     "output_type": "stream",
     "text": [
      "validating model exists...\n"
     ]
    }
   ],
   "source": [
    "from pathlib import Path\n",
    "import sys\n",
    "sys.path.append(\n",
    "    str(Path.cwd().parents[1])\n",
    ");\n",
    "\n",
    "import sys\n",
    "\n",
    "from langchain_community.document_loaders import DirectoryLoader\n",
    "from langchain_community.embeddings import OllamaEmbeddings\n",
    "from langchain_community.llms import Ollama\n",
    "from utilities.ollama import verify_ollama_model_present\n",
    "\n",
    "MODEL_NAME = \"openchat\"\n",
    "# https://ollama.com/library/openchat\n",
    "\n",
    "llm = Ollama(model=MODEL_NAME)\n",
    "embeddings = OllamaEmbeddings(model=MODEL_NAME)\n",
    "\n",
    "\n",
    "# make sure that the ollama is available to use locally (might need to ollama pull)\n",
    "verify_ollama_model_present(\"openchat\")"
   ]
  },
  {
   "cell_type": "code",
   "execution_count": 3,
   "metadata": {},
   "outputs": [],
   "source": [
    "from langchain_core.prompts import ChatPromptTemplate, MessagesPlaceholder\n",
    "from langchain_core.messages import AIMessage, BaseMessage, HumanMessage\n",
    "\n",
    "prompt = ChatPromptTemplate.from_messages(\n",
    "    [\n",
    "        (\n",
    "            \"system\",\n",
    "            \"\"\"You are an essay assistant tasked with writing excellent 5-paragraph essays.\n",
    "             Generate the best essay possible for the user's request.\n",
    "             If the user provides critique, respond with a revised version of your previous attempts.\"\"\",\n",
    "        ),\n",
    "        MessagesPlaceholder(variable_name=\"messages\"),\n",
    "    ]\n",
    ")\n",
    "\n",
    "generate = prompt | llm"
   ]
  },
  {
   "cell_type": "code",
   "execution_count": 4,
   "metadata": {},
   "outputs": [
    {
     "name": "stdout",
     "output_type": "stream",
     "text": [
      " Title: The Relevance of The Little Prince in Modern Childhood\n",
      "\n",
      "Introduction\n",
      "\n",
      "Antoine de Saint-Exupéry's \"The Little Prince\" has captured the hearts and minds of readers for generations. Although it was first published in 1943, the themes and messages found within this allegorical novella continue to resonate with modern childhood experiences. This essay will discuss how the story of The Little Prince remains relevant to today's children by exploring its themes of friendship, self-discovery, and the importance of maintaining a sense of wonder in an increasingly complex world.\n",
      "\n",
      "Body Paragraph 1: Friendship and Loneliness\n",
      "\n",
      "One central theme of \"The Little Prince\" is the significance of friendship and the dangers of loneliness. The Little Prince's journey through various planets teaches him about different relationships, ultimately leading to his connection with the narrator, a pilot stranded in the desert. This bond becomes crucial for both characters, as they find solace and companionship in each other. In today's modern society, children often face social isolation due to technology and busy schedules. The Little Prince's story serves as a reminder of the importance of building strong friendships and maintaining open communication with others.\n",
      "\n",
      "Body Paragraph 2: Self-Discovery and Personal Growth\n",
      "\n",
      "As The Little Prince explores different planets, he encounters various inhabitants who personify human vices and virtues. Through these interactions, he develops a deeper understanding of himself and the world around him. This theme of self-discovery and personal growth is highly relevant for modern children, who must navigate an increasingly complex environment filled with distractions and challenges. The Little Prince's journey encourages young readers to reflect on their own values, emotions, and experiences, fostering emotional intelligence and empathy.\n",
      "\n",
      "Body Paragraph 3: Maintaining a Sense of Wonder\n",
      "\n",
      "The Little Prince is often remembered for its poignant portrayal of wonder and curiosity. The character embodies the importance of maintaining a sense of wonder in an increasingly complex world. As children grow up, they may become desensitized to the beauty and magic of their surroundings due to exposure to technology, societal pressures, and adult-driven expectations. \"The Little Prince\" reminds modern childhoods that curiosity and imagination are essential for personal growth, problem-solving, and overall well-being.\n",
      "\n",
      "Conclusion\n",
      "\n",
      "Antoine de Saint-Exupéry's \"The Little Prince\" remains a timeless tale with themes and messages that continue to resonate in today's world. Its focus on friendship, self-discovery, and maintaining a sense of wonder is particularly relevant for modern children who face unique challenges and pressures. By engaging with this classic story, young readers can learn valuable lessons about human nature, emotional intelligence, and the importance of imagination, all while enjoying a captivating narrative that transcends generations."
     ]
    }
   ],
   "source": [
    "essay = \"\"\n",
    "request = HumanMessage(\n",
    "    content=\"Write an essay on why the little prince is relevant in modern childhood\"\n",
    ")\n",
    "for chunk in generate.stream({\"messages\": [request]}):\n",
    "    print(chunk, end='')\n",
    "    essay += chunk"
   ]
  },
  {
   "cell_type": "markdown",
   "metadata": {},
   "source": [
    "## Reflection LLM\n",
    "\n",
    "Next, we set up the reflection LLM"
   ]
  },
  {
   "cell_type": "code",
   "execution_count": 6,
   "metadata": {},
   "outputs": [],
   "source": [
    "reflection_prompt = ChatPromptTemplate.from_messages(\n",
    "    [\n",
    "        (\n",
    "            \"system\",\n",
    "            \"\"\"You are grading an essay submission. Generate critique and recommendations for the user's submission. \n",
    "            Provide detailed recommendations, including requests for length, depth, style, etc.\n",
    "            Use this template in your answer:\n",
    "            Grade: A to F\n",
    "            Areas of improvement (if any): \"\"\",\n",
    "        ),\n",
    "        MessagesPlaceholder(variable_name=\"messages\"),\n",
    "    ]\n",
    ")\n",
    "reflect = reflection_prompt | llm"
   ]
  },
  {
   "cell_type": "code",
   "execution_count": 7,
   "metadata": {},
   "outputs": [
    {
     "name": "stdout",
     "output_type": "stream",
     "text": [
      " Grade: A\n",
      "\n",
      "Areas of improvement (if any): \n",
      "The essay is well-structured, with a clear introduction, body paragraphs, and conclusion. It effectively addresses the themes of friendship, self-discovery, and maintaining a sense of wonder in \"The Little Prince\" and how these themes are relevant to modern childhood experiences. The language used is clear and concise, making it easy to follow and understand. However, there could be more specific examples from the text to support the points made, as well as some additional exploration of how these themes can be applied to today's children's lives. So the overall score is A."
     ]
    }
   ],
   "source": [
    "reflection = \"\"\n",
    "for chunk in reflect.stream({\"messages\": [request, HumanMessage(content=essay)]}):\n",
    "    print(chunk, end=\"\")\n",
    "    reflection += chunk"
   ]
  },
  {
   "cell_type": "markdown",
   "metadata": {},
   "source": [
    "## Rerun generation model with feedback"
   ]
  },
  {
   "cell_type": "code",
   "execution_count": 28,
   "metadata": {},
   "outputs": [
    {
     "name": "stdout",
     "output_type": "stream",
     "text": [
      " Title: The Relevance of The Little Prince in Modern Childhood\n",
      "\n",
      "Introduction:\n",
      "Antoine de Saint-Exupéry's \"The Little Prince,\" a captivating tale of a young prince who traverses the universe, has enchanted generations of readers with its profound lessons about life and humanity. Although initially published in 1943, this timeless story remains highly relevant to modern childhood, as it delves into themes such as loneliness, the importance of meaningful relationships, and the necessity for a balance between imagination and reality.\n",
      "\n",
      "Body:\n",
      "I. The Power of Imagination: In today's world, children often face an overwhelming influx of information and stimulation, which can lead to stress and a lack of creativity. \"The Little Prince\" inspires children to embrace their imaginations by exploring the beauty of nature and the depth of human emotions. This narrative reminds young readers that imagination is crucial for personal growth and self-discovery, fostering empathy and understanding in an ever-evolving landscape.\n",
      "\n",
      "II. The Importance of Authentic Connections: Modern childhood frequently involves a high level of social interaction through digital platforms; however, these connections can sometimes lack depth and authenticity. The Little Prince's journey highlights the significance of genuine relationships as he seeks companionship and understanding from various characters throughout his travels. By emphasizing the value of meaningful connections, the story encourages children to cultivate strong, nurturing bonds with both their peers and adults, promoting emotional health and well-being.\n",
      "\n",
      "III. Finding Balance Between Imagination and Reality: In a world defined by technological advancements, children may struggle to distinguish between fantasy and reality. \"The Little Prince\" serves as a reminder that while imagination is vital for personal development, it must also be grounded in the practical aspects of life. By depicting the prince's journey through diverse planets and his encounters with an array of characters, the story teaches young readers about the importance of maintaining a balance between their imaginative pursuits and the responsibilities they face in reality.\n",
      "\n",
      "Conclusion:\n",
      "The enduring relevance of \"The Little Prince\" to modern childhood lies in its exploration of themes such as imagination, loneliness, and the equilibrium between fantasy and reality. This story serves as a timeless reminder that children need to cultivate their creativity while also understanding the importance of genuine connections and practical responsibilities. By revisiting this cherished tale, young readers can gain valuable insights into navigating the complexities of contemporary childhood and developing a strong sense of self in an ever-changing world."
     ]
    }
   ],
   "source": [
    "for chunk in generate.stream(\n",
    "    {\"messages\": [request, AIMessage(\n",
    "        content=essay), HumanMessage(content=reflection)]}\n",
    "):\n",
    "    print(chunk, end=\"\")"
   ]
  },
  {
   "cell_type": "markdown",
   "metadata": {},
   "source": [
    "## Wire up this sequence in a graph"
   ]
  },
  {
   "cell_type": "code",
   "execution_count": 10,
   "metadata": {},
   "outputs": [],
   "source": [
    "from typing import List, Sequence\n",
    "\n",
    "from langgraph.graph import END, MessageGraph\n",
    "\n",
    "\n",
    "async def generation_node(state: Sequence[BaseMessage]):\n",
    "    content = await generate.ainvoke({\"messages\": state})\n",
    "    return AIMessage(content=content)\n",
    "\n",
    "\n",
    "async def reflection_node(messages: Sequence[BaseMessage]):\n",
    "    # Other messages we need to adjust\n",
    "    cls_map = {\"ai\": HumanMessage, \"human\": AIMessage}\n",
    "    \n",
    "    # First message is the original user request. \n",
    "    translated = [messages[0]] + [\n",
    "        cls_map[msg.type](content=msg.content) for msg in messages[1:]\n",
    "    ]\n",
    "    \n",
    "    res = await reflect.ainvoke({\"messages\": translated})\n",
    "    \n",
    "    # We treat the output of this as human feedback for the generator\n",
    "    return HumanMessage(content=res)\n",
    "\n",
    "\n",
    "builder = MessageGraph()\n",
    "builder.add_node(\"generate\", generation_node)\n",
    "builder.add_node(\"reflect\", reflection_node)\n",
    "builder.set_entry_point(\"generate\")\n",
    "\n",
    "\n",
    "def should_continue(state: List[BaseMessage]):\n",
    "    \"\"\"currently makes the graph execute until the state is at least 2 messages\"\"\"\n",
    "    if len(state) > 3:\n",
    "        return END\n",
    "    return \"reflect\"\n",
    "\n",
    "builder.add_conditional_edges(\"generate\", should_continue)\n",
    "builder.add_edge(\"reflect\", \"generate\")\n",
    "graph = builder.compile()"
   ]
  },
  {
   "cell_type": "markdown",
   "metadata": {},
   "source": [
    "Small note: There are some minor changes when compared to the reference notebook\n",
    "We had to make some changes in the code above because Langchain Runnables (the prompt | llm object) seems to be expected to return Messages but now instead return str."
   ]
  },
  {
   "cell_type": "code",
   "execution_count": 11,
   "metadata": {},
   "outputs": [
    {
     "name": "stdout",
     "output_type": "stream",
     "text": [
      "{'generate': AIMessage(content=\" Title: The Challenges of Migrating from On-Premises to Cloud Computing\\n\\nIntroduction:\\nThe transition from on-premises infrastructure to cloud computing has become increasingly popular among businesses in recent years. While the potential benefits, such as cost savings and scalability, are well-known, migrating from an on-premises environment to a cloud-based solution is not without its challenges. This essay will explore some of the most significant obstacles organizations face when undertaking this migration process.\\n\\nParagraph 1: Security Concerns\\nOne of the primary concerns for organizations considering a shift to cloud computing is security. Maintaining data privacy and ensuring compliance with various regulations can be challenging in a cloud environment. Companies must carefully assess how their data will be stored, processed, and managed by the cloud provider. Additionally, they need to evaluate the provider's security measures, such as encryption and access control policies, to ensure that their sensitive information remains protected.\\n\\nParagraph 2: Data Migration and Downtime\\nMigration of data from on-premises infrastructure to a cloud environment is another significant challenge. The process can be time-consuming, complex, and prone to errors. Companies need to plan and execute the migration carefully to minimize downtime and avoid potential disruptions in service. Ensuring that all data is accurately transferred and that applications function correctly in the new environment requires thorough testing and validation.\\n\\nParagraph 3: Integration with Existing Systems\\nIntegrating cloud-based services with existing on-premises systems can be a complex task. Companies must carefully plan and execute their migration strategy to ensure seamless integration between the two environments. This may involve redesigning or updating applications, as well as modifying existing processes and workflows to accommodate the new infrastructure.\\n\\nParagraph 4: Cost Management\\nWhile cloud computing can provide significant cost savings over time, transitioning from on-premises infrastructure to a cloud environment can be expensive initially. Companies must carefully plan their budget and resources to cover the costs of migration, as well as ongoing subscription fees for cloud services. Additionally, organizations need to be aware of potential hidden costs, such as data transfer charges or additional fees for specific features.\\n\\nConclusion:\\nMigrating from on-premises infrastructure to a cloud-based solution presents numerous challenges for organizations. These include concerns about security and compliance, data migration and downtime, integration with existing systems, and cost management. However, by carefully planning and executing their migration strategy, businesses can successfully navigate these obstacles and reap the benefits of cloud computing, such as scalability, cost savings, and increased efficiency.\", id='8e05c269-7081-4fb8-bf29-eb71901d2a0a')}\n",
      "---\n",
      "\n",
      "{'reflect': HumanMessage(content=' Grade: A\\n\\nAreas of improvement (if any): \\nThe essay is well-written and covers the main challenges of migrating from on-premises to cloud computing. However, there are a few suggestions for further improvement:\\n\\n1. Length: While the essay is concise and to the point, it could benefit from more in-depth discussion on each challenge. For example, providing specific examples or case studies related to security concerns, data migration, integration with existing systems, and cost management would strengthen the essay and provide readers with a better understanding of these challenges.\\n\\n2. Depth: To provide an even more comprehensive analysis, the essay could discuss additional challenges that organizations might face during the migration process, such as vendor lock-in, training employees on new technologies, or potential performance issues due to latency in accessing data from the cloud.\\n\\n3. Style: The essay is written in a clear and organized manner, making it easy for readers to follow. However, incorporating more varied sentence structures and using active voice where appropriate could improve readability and engagement.\\n\\n4. Conclusion: The conclusion effectively summarizes the main points of the essay but could be improved by offering suggestions or recommendations for businesses considering migrating from on-premises infrastructure to cloud computing. For instance, discussing best practices or tips for overcoming the challenges outlined in the essay would provide added value for readers.', id='c77e53aa-19b6-4953-ab3e-29ca623e7100')}\n",
      "---\n",
      "\n",
      "{'generate': AIMessage(content=\" Title: The Challenges of Migrating from On-Premises to Cloud Computing\\n\\nIntroduction:\\nThe transition from on-premises infrastructure to cloud computing has become increasingly popular among businesses in recent years, offering potential benefits such as cost savings and scalability. However, migrating from an on-premises environment to a cloud-based solution is not without its challenges. This essay will explore some of the most significant obstacles organizations face when undertaking this migration process, including security concerns, data migration and downtime, integration with existing systems, and cost management.\\n\\nParagraph 1: Security Concerns - Challenges and Solutions\\nOne of the primary concerns for organizations considering a shift to cloud computing is security. Maintaining data privacy and ensuring compliance with various regulations can be challenging in a cloud environment. To address these concerns, companies must carefully assess how their data will be stored, processed, and managed by the cloud provider. They should also evaluate the provider's security measures, such as encryption and access control policies, to ensure that their sensitive information remains protected. In addition, organizations can adopt a multi-cloud strategy or implement a hybrid approach to further enhance security.\\n\\nParagraph 2: Data Migration and Downtime - Strategies and Best Practices\\nMigration of data from on-premises infrastructure to a cloud environment is another significant challenge. The process can be time-consuming, complex, and prone to errors. To minimize downtime and avoid potential disruptions in service, companies need to plan and execute the migration carefully. Ensuring that all data is accurately transferred and that applications function correctly in the new environment requires thorough testing and validation. Employing a phased approach, using migration tools, and having a rollback plan are some strategies to manage this challenge effectively.\\n\\nParagraph 3: Integration with Existing Systems - Approaches and Techniques\\nIntegrating cloud-based services with existing on-premises systems can be a complex task. Companies must carefully plan and execute their migration strategy to ensure seamless integration between the two environments. This may involve redesigning or updating applications, as well as modifying existing processes and workflows to accommodate the new infrastructure. Utilizing APIs, containerization, and microservices architecture are some techniques that can help organizations overcome this challenge.\\n\\nParagraph 4: Cost Management - Budgeting and Optimization Techniques\\nWhile cloud computing can provide significant cost savings over time, transitioning from on-premises infrastructure to a cloud environment can be expensive initially. To manage these costs effectively, companies must carefully plan their budget and resources to cover the costs of migration, as well as ongoing subscription fees for cloud services. Additionally, organizations need to be aware of potential hidden costs, such as data transfer charges or additional fees for specific features. Implementing cost optimization strategies like right-sizing resources, using reserved instances, and monitoring usage can help mitigate these challenges.\\n\\nConclusion: Facing the Challenges and Embracing Cloud Computing\\nMigrating from on-premises infrastructure to a cloud-based solution presents numerous challenges for organizations, including security concerns, data migration and downtime, integration with existing systems, and cost management. However, by carefully planning and executing their migration strategy, businesses can successfully navigate these obstacles and reap the benefits of cloud computing. By employing best practices, techniques, and strategies to overcome each challenge, organizations can optimize their migration process and effectively transition to a cloud-based environment.\", id='6b4dd347-336b-4629-8652-0e489502ee33')}\n",
      "---\n",
      "\n",
      "{'__end__': [HumanMessage(content='Create a write up about the challenges of migrating from on-prem to cloud.', id='3e765d55-592c-4313-be9a-22af7a80fcd3'), AIMessage(content=\" Title: The Challenges of Migrating from On-Premises to Cloud Computing\\n\\nIntroduction:\\nThe transition from on-premises infrastructure to cloud computing has become increasingly popular among businesses in recent years. While the potential benefits, such as cost savings and scalability, are well-known, migrating from an on-premises environment to a cloud-based solution is not without its challenges. This essay will explore some of the most significant obstacles organizations face when undertaking this migration process.\\n\\nParagraph 1: Security Concerns\\nOne of the primary concerns for organizations considering a shift to cloud computing is security. Maintaining data privacy and ensuring compliance with various regulations can be challenging in a cloud environment. Companies must carefully assess how their data will be stored, processed, and managed by the cloud provider. Additionally, they need to evaluate the provider's security measures, such as encryption and access control policies, to ensure that their sensitive information remains protected.\\n\\nParagraph 2: Data Migration and Downtime\\nMigration of data from on-premises infrastructure to a cloud environment is another significant challenge. The process can be time-consuming, complex, and prone to errors. Companies need to plan and execute the migration carefully to minimize downtime and avoid potential disruptions in service. Ensuring that all data is accurately transferred and that applications function correctly in the new environment requires thorough testing and validation.\\n\\nParagraph 3: Integration with Existing Systems\\nIntegrating cloud-based services with existing on-premises systems can be a complex task. Companies must carefully plan and execute their migration strategy to ensure seamless integration between the two environments. This may involve redesigning or updating applications, as well as modifying existing processes and workflows to accommodate the new infrastructure.\\n\\nParagraph 4: Cost Management\\nWhile cloud computing can provide significant cost savings over time, transitioning from on-premises infrastructure to a cloud environment can be expensive initially. Companies must carefully plan their budget and resources to cover the costs of migration, as well as ongoing subscription fees for cloud services. Additionally, organizations need to be aware of potential hidden costs, such as data transfer charges or additional fees for specific features.\\n\\nConclusion:\\nMigrating from on-premises infrastructure to a cloud-based solution presents numerous challenges for organizations. These include concerns about security and compliance, data migration and downtime, integration with existing systems, and cost management. However, by carefully planning and executing their migration strategy, businesses can successfully navigate these obstacles and reap the benefits of cloud computing, such as scalability, cost savings, and increased efficiency.\", id='8e05c269-7081-4fb8-bf29-eb71901d2a0a'), HumanMessage(content=' Grade: A\\n\\nAreas of improvement (if any): \\nThe essay is well-written and covers the main challenges of migrating from on-premises to cloud computing. However, there are a few suggestions for further improvement:\\n\\n1. Length: While the essay is concise and to the point, it could benefit from more in-depth discussion on each challenge. For example, providing specific examples or case studies related to security concerns, data migration, integration with existing systems, and cost management would strengthen the essay and provide readers with a better understanding of these challenges.\\n\\n2. Depth: To provide an even more comprehensive analysis, the essay could discuss additional challenges that organizations might face during the migration process, such as vendor lock-in, training employees on new technologies, or potential performance issues due to latency in accessing data from the cloud.\\n\\n3. Style: The essay is written in a clear and organized manner, making it easy for readers to follow. However, incorporating more varied sentence structures and using active voice where appropriate could improve readability and engagement.\\n\\n4. Conclusion: The conclusion effectively summarizes the main points of the essay but could be improved by offering suggestions or recommendations for businesses considering migrating from on-premises infrastructure to cloud computing. For instance, discussing best practices or tips for overcoming the challenges outlined in the essay would provide added value for readers.', id='c77e53aa-19b6-4953-ab3e-29ca623e7100'), AIMessage(content=\" Title: The Challenges of Migrating from On-Premises to Cloud Computing\\n\\nIntroduction:\\nThe transition from on-premises infrastructure to cloud computing has become increasingly popular among businesses in recent years, offering potential benefits such as cost savings and scalability. However, migrating from an on-premises environment to a cloud-based solution is not without its challenges. This essay will explore some of the most significant obstacles organizations face when undertaking this migration process, including security concerns, data migration and downtime, integration with existing systems, and cost management.\\n\\nParagraph 1: Security Concerns - Challenges and Solutions\\nOne of the primary concerns for organizations considering a shift to cloud computing is security. Maintaining data privacy and ensuring compliance with various regulations can be challenging in a cloud environment. To address these concerns, companies must carefully assess how their data will be stored, processed, and managed by the cloud provider. They should also evaluate the provider's security measures, such as encryption and access control policies, to ensure that their sensitive information remains protected. In addition, organizations can adopt a multi-cloud strategy or implement a hybrid approach to further enhance security.\\n\\nParagraph 2: Data Migration and Downtime - Strategies and Best Practices\\nMigration of data from on-premises infrastructure to a cloud environment is another significant challenge. The process can be time-consuming, complex, and prone to errors. To minimize downtime and avoid potential disruptions in service, companies need to plan and execute the migration carefully. Ensuring that all data is accurately transferred and that applications function correctly in the new environment requires thorough testing and validation. Employing a phased approach, using migration tools, and having a rollback plan are some strategies to manage this challenge effectively.\\n\\nParagraph 3: Integration with Existing Systems - Approaches and Techniques\\nIntegrating cloud-based services with existing on-premises systems can be a complex task. Companies must carefully plan and execute their migration strategy to ensure seamless integration between the two environments. This may involve redesigning or updating applications, as well as modifying existing processes and workflows to accommodate the new infrastructure. Utilizing APIs, containerization, and microservices architecture are some techniques that can help organizations overcome this challenge.\\n\\nParagraph 4: Cost Management - Budgeting and Optimization Techniques\\nWhile cloud computing can provide significant cost savings over time, transitioning from on-premises infrastructure to a cloud environment can be expensive initially. To manage these costs effectively, companies must carefully plan their budget and resources to cover the costs of migration, as well as ongoing subscription fees for cloud services. Additionally, organizations need to be aware of potential hidden costs, such as data transfer charges or additional fees for specific features. Implementing cost optimization strategies like right-sizing resources, using reserved instances, and monitoring usage can help mitigate these challenges.\\n\\nConclusion: Facing the Challenges and Embracing Cloud Computing\\nMigrating from on-premises infrastructure to a cloud-based solution presents numerous challenges for organizations, including security concerns, data migration and downtime, integration with existing systems, and cost management. However, by carefully planning and executing their migration strategy, businesses can successfully navigate these obstacles and reap the benefits of cloud computing. By employing best practices, techniques, and strategies to overcome each challenge, organizations can optimize their migration process and effectively transition to a cloud-based environment.\", id='6b4dd347-336b-4629-8652-0e489502ee33')]}\n",
      "---\n",
      "\n"
     ]
    }
   ],
   "source": [
    "async for event in graph.astream(\n",
    "    [\n",
    "        HumanMessage(\n",
    "            content=\"Create a write up about the challenges of migrating from on-prem to cloud.\"\n",
    "        )\n",
    "    ],\n",
    "):\n",
    "    print(event)\n",
    "    print(\"---\\n\")"
   ]
  },
  {
   "cell_type": "code",
   "execution_count": 12,
   "metadata": {},
   "outputs": [
    {
     "name": "stdout",
     "output_type": "stream",
     "text": [
      "================================\u001b[1m Human Message \u001b[0m=================================\n",
      "\n",
      "Create a write up about the challenges of migrating from on-prem to cloud.\n",
      "\n",
      "==================================\u001b[1m Ai Message \u001b[0m==================================\n",
      "\n",
      " Title: The Challenges of Migrating from On-Premises to Cloud Computing\n",
      "\n",
      "Introduction:\n",
      "The transition from on-premises infrastructure to cloud computing has become increasingly popular among businesses in recent years. While the potential benefits, such as cost savings and scalability, are well-known, migrating from an on-premises environment to a cloud-based solution is not without its challenges. This essay will explore some of the most significant obstacles organizations face when undertaking this migration process.\n",
      "\n",
      "Paragraph 1: Security Concerns\n",
      "One of the primary concerns for organizations considering a shift to cloud computing is security. Maintaining data privacy and ensuring compliance with various regulations can be challenging in a cloud environment. Companies must carefully assess how their data will be stored, processed, and managed by the cloud provider. Additionally, they need to evaluate the provider's security measures, such as encryption and access control policies, to ensure that their sensitive information remains protected.\n",
      "\n",
      "Paragraph 2: Data Migration and Downtime\n",
      "Migration of data from on-premises infrastructure to a cloud environment is another significant challenge. The process can be time-consuming, complex, and prone to errors. Companies need to plan and execute the migration carefully to minimize downtime and avoid potential disruptions in service. Ensuring that all data is accurately transferred and that applications function correctly in the new environment requires thorough testing and validation.\n",
      "\n",
      "Paragraph 3: Integration with Existing Systems\n",
      "Integrating cloud-based services with existing on-premises systems can be a complex task. Companies must carefully plan and execute their migration strategy to ensure seamless integration between the two environments. This may involve redesigning or updating applications, as well as modifying existing processes and workflows to accommodate the new infrastructure.\n",
      "\n",
      "Paragraph 4: Cost Management\n",
      "While cloud computing can provide significant cost savings over time, transitioning from on-premises infrastructure to a cloud environment can be expensive initially. Companies must carefully plan their budget and resources to cover the costs of migration, as well as ongoing subscription fees for cloud services. Additionally, organizations need to be aware of potential hidden costs, such as data transfer charges or additional fees for specific features.\n",
      "\n",
      "Conclusion:\n",
      "Migrating from on-premises infrastructure to a cloud-based solution presents numerous challenges for organizations. These include concerns about security and compliance, data migration and downtime, integration with existing systems, and cost management. However, by carefully planning and executing their migration strategy, businesses can successfully navigate these obstacles and reap the benefits of cloud computing, such as scalability, cost savings, and increased efficiency.\n",
      "\n",
      "================================\u001b[1m Human Message \u001b[0m=================================\n",
      "\n",
      " Grade: A\n",
      "\n",
      "Areas of improvement (if any): \n",
      "The essay is well-written and covers the main challenges of migrating from on-premises to cloud computing. However, there are a few suggestions for further improvement:\n",
      "\n",
      "1. Length: While the essay is concise and to the point, it could benefit from more in-depth discussion on each challenge. For example, providing specific examples or case studies related to security concerns, data migration, integration with existing systems, and cost management would strengthen the essay and provide readers with a better understanding of these challenges.\n",
      "\n",
      "2. Depth: To provide an even more comprehensive analysis, the essay could discuss additional challenges that organizations might face during the migration process, such as vendor lock-in, training employees on new technologies, or potential performance issues due to latency in accessing data from the cloud.\n",
      "\n",
      "3. Style: The essay is written in a clear and organized manner, making it easy for readers to follow. However, incorporating more varied sentence structures and using active voice where appropriate could improve readability and engagement.\n",
      "\n",
      "4. Conclusion: The conclusion effectively summarizes the main points of the essay but could be improved by offering suggestions or recommendations for businesses considering migrating from on-premises infrastructure to cloud computing. For instance, discussing best practices or tips for overcoming the challenges outlined in the essay would provide added value for readers.\n",
      "\n",
      "==================================\u001b[1m Ai Message \u001b[0m==================================\n",
      "\n",
      " Title: The Challenges of Migrating from On-Premises to Cloud Computing\n",
      "\n",
      "Introduction:\n",
      "The transition from on-premises infrastructure to cloud computing has become increasingly popular among businesses in recent years, offering potential benefits such as cost savings and scalability. However, migrating from an on-premises environment to a cloud-based solution is not without its challenges. This essay will explore some of the most significant obstacles organizations face when undertaking this migration process, including security concerns, data migration and downtime, integration with existing systems, and cost management.\n",
      "\n",
      "Paragraph 1: Security Concerns - Challenges and Solutions\n",
      "One of the primary concerns for organizations considering a shift to cloud computing is security. Maintaining data privacy and ensuring compliance with various regulations can be challenging in a cloud environment. To address these concerns, companies must carefully assess how their data will be stored, processed, and managed by the cloud provider. They should also evaluate the provider's security measures, such as encryption and access control policies, to ensure that their sensitive information remains protected. In addition, organizations can adopt a multi-cloud strategy or implement a hybrid approach to further enhance security.\n",
      "\n",
      "Paragraph 2: Data Migration and Downtime - Strategies and Best Practices\n",
      "Migration of data from on-premises infrastructure to a cloud environment is another significant challenge. The process can be time-consuming, complex, and prone to errors. To minimize downtime and avoid potential disruptions in service, companies need to plan and execute the migration carefully. Ensuring that all data is accurately transferred and that applications function correctly in the new environment requires thorough testing and validation. Employing a phased approach, using migration tools, and having a rollback plan are some strategies to manage this challenge effectively.\n",
      "\n",
      "Paragraph 3: Integration with Existing Systems - Approaches and Techniques\n",
      "Integrating cloud-based services with existing on-premises systems can be a complex task. Companies must carefully plan and execute their migration strategy to ensure seamless integration between the two environments. This may involve redesigning or updating applications, as well as modifying existing processes and workflows to accommodate the new infrastructure. Utilizing APIs, containerization, and microservices architecture are some techniques that can help organizations overcome this challenge.\n",
      "\n",
      "Paragraph 4: Cost Management - Budgeting and Optimization Techniques\n",
      "While cloud computing can provide significant cost savings over time, transitioning from on-premises infrastructure to a cloud environment can be expensive initially. To manage these costs effectively, companies must carefully plan their budget and resources to cover the costs of migration, as well as ongoing subscription fees for cloud services. Additionally, organizations need to be aware of potential hidden costs, such as data transfer charges or additional fees for specific features. Implementing cost optimization strategies like right-sizing resources, using reserved instances, and monitoring usage can help mitigate these challenges.\n",
      "\n",
      "Conclusion: Facing the Challenges and Embracing Cloud Computing\n",
      "Migrating from on-premises infrastructure to a cloud-based solution presents numerous challenges for organizations, including security concerns, data migration and downtime, integration with existing systems, and cost management. However, by carefully planning and executing their migration strategy, businesses can successfully navigate these obstacles and reap the benefits of cloud computing. By employing best practices, techniques, and strategies to overcome each challenge, organizations can optimize their migration process and effectively transition to a cloud-based environment.\n"
     ]
    }
   ],
   "source": [
    "ChatPromptTemplate.from_messages(event[END]).pretty_print()"
   ]
  },
  {
   "cell_type": "code",
   "execution_count": null,
   "metadata": {},
   "outputs": [],
   "source": []
  }
 ],
 "metadata": {
  "kernelspec": {
   "display_name": "venv",
   "language": "python",
   "name": "python3"
  },
  "language_info": {
   "codemirror_mode": {
    "name": "ipython",
    "version": 3
   },
   "file_extension": ".py",
   "mimetype": "text/x-python",
   "name": "python",
   "nbconvert_exporter": "python",
   "pygments_lexer": "ipython3",
   "version": "3.10.8"
  }
 },
 "nbformat": 4,
 "nbformat_minor": 2
}
