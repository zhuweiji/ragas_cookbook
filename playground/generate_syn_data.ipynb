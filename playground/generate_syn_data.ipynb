{
 "cells": [
  {
   "cell_type": "code",
   "execution_count": 1,
   "metadata": {},
   "outputs": [
    {
     "name": "stderr",
     "output_type": "stream",
     "text": [
      "c:\\Users\\zhuwe\\OneDrive\\Desktop\\projects\\ragas_cookbook\\venv\\lib\\site-packages\\tqdm\\auto.py:21: TqdmWarning: IProgress not found. Please update jupyter and ipywidgets. See https://ipywidgets.readthedocs.io/en/stable/user_install.html\n",
      "  from .autonotebook import tqdm as notebook_tqdm\n"
     ]
    }
   ],
   "source": [
    "from synthetic_data_generation.rag_data import DataGenerator\n",
    "from retrievers.chroma import ExtendedChromaMarkdownRetriever\n",
    "from chunkers.markdown_chunker import MarkdownChunker\n",
    "\n",
    "from config.project_paths import project_root, source_document_directory"
   ]
  },
  {
   "cell_type": "code",
   "execution_count": null,
   "metadata": {},
   "outputs": [],
   "source": [
    "retriever = ExtendedChromaMarkdownRetriever()"
   ]
  },
  {
   "cell_type": "code",
   "execution_count": 6,
   "metadata": {},
   "outputs": [],
   "source": [
    "selected_document = 'accessibility.md'\n",
    "\n",
    "selected_document_path = source_document_directory / 'vscode' / selected_document\n",
    "text = selected_document_path.read_text()\n",
    "\n",
    "toc = MarkdownChunker.get_table_of_contents(selected_document_path)"
   ]
  },
  {
   "cell_type": "code",
   "execution_count": 7,
   "metadata": {},
   "outputs": [
    {
     "data": {
      "text/plain": [
       "19303"
      ]
     },
     "execution_count": 7,
     "metadata": {},
     "output_type": "execute_result"
    }
   ],
   "source": [
    "len(text)"
   ]
  },
  {
   "cell_type": "code",
   "execution_count": 8,
   "metadata": {},
   "outputs": [],
   "source": [
    "from langchain_text_splitters import RecursiveCharacterTextSplitter\n",
    "\n",
    "text_splitter = RecursiveCharacterTextSplitter(\n",
    "    # Set a really small chunk size, just to show.\n",
    "    chunk_size=6000,\n",
    "    chunk_overlap=400,\n",
    "    length_function=len,\n",
    "    is_separator_regex=False,\n",
    ")"
   ]
  },
  {
   "cell_type": "code",
   "execution_count": 9,
   "metadata": {},
   "outputs": [],
   "source": [
    "docs = text_splitter.create_documents([text])"
   ]
  },
  {
   "cell_type": "code",
   "execution_count": 10,
   "metadata": {},
   "outputs": [
    {
     "name": "stdout",
     "output_type": "stream",
     "text": [
      "Assigning a color to the background of `editorError` and `editorWarning` also helps to identify potential issues. The\n",
      "color that you choose will highlight the respective error or warning. The colors shown in the preceding example,\n",
      "`#ffef0f` (yellow) and `#37777ff` (blue), are more accessible to individuals with common forms of color vision\n",
      "deficiencies.  ### Selecting accessible colors  The accessibility of colors is subjective to the type of anomalous\n",
      "trichromacy (color blindness). The level of severity ranges per person and can be divided into four condition types:  |\n",
      "Condition      |   Type    | |       ---        |    ---    | |   Deuteranopia   |   Reduced sensitivity to green light.\n",
      "It is the most common form of color blindness. |   Protanopia     |   Reduced sensitivity to red light. |   Tritanopia\n",
      "|   Reduced sensitivity to blue light. This condition is considered rare. |   Monochromia    |   The inability to see\n",
      "all colors, also referred to as achromatopsia. More information about the rarest form of color blindness: [Foundation\n",
      "for Fighting Blindness](https://www.fightingblindness.org/diseases/achromatopsia).  One of the best approaches to\n",
      "selecting the best colors for a specific condition is to apply complementary colors. These are colors located opposite\n",
      "of one another on a color wheel.  ![Color wheel highlighting complementary colors for regular vision, deuteranopia,\n",
      "protanopia, tritanopia and monochromacy](images/accessibility/accessibility-color-wheels.png)  >**Note**: For more\n",
      "information on finding complementary colors, access the color blind simulator and interactive color wheel at [Adobe\n",
      "Color](https://color.adobe.com/create/color-accessibility).  ## Dim unfocused editors and terminals  Unfocused views can\n",
      "be dimmed to make it clearer where typed input will go. This is especially useful when working with multiple editor\n",
      "groups or terminals. Turn on this feature by setting `\"accessibility.dimUnfocused.enabled\": true`. You can control the\n",
      "dimness level with `accessibility.dimUnfocused.opacity`, which takes the opacity fraction from 0.2 to 1 (default 0.75).\n",
      "## Keyboard navigation  VS Code provides an exhaustive list of commands in the **Command Palette**\n",
      "(`kb(workbench.action.showCommands)`) so that you can use VS Code without a mouse. Press\n",
      "`kb(workbench.action.showCommands)`, then type a command name (for example 'git') to filter the list of commands.  VS\n",
      "Code also has many preset keyboard shortcuts for commands.  ![Key bindings for commands are displayed at the end of the\n",
      "command palette entry](images/accessibility/keyboard-shortcuts.png)  You can also set your own keyboard shortcuts.\n",
      "**File** > **Preferences** > **Keyboard Shortcuts** (`kb(workbench.action.openGlobalKeybindings)`) opens the Keyboard\n",
      "Shortcuts editor, where you can discover and modify key bindings for VS Code actions. See [Key\n",
      "Bindings](/docs/getstarted/keybindings.md) for more details on customizing or adding your own keyboard shortcuts.  For\n",
      "quick navigation across the workbench, we recommend using **Focus Next Part** (`kb(workbench.action.focusNextPart)`) and\n",
      "**Focus Previous Part** (`kb(workbench.action.focusPreviousPart)`) commands.  ### Anchor selection  To make it easier to\n",
      "start and end selections with the keyboard, there are four commands: **Set Selection Anchor**\n",
      "(`kb(editor.action.setSelectionAnchor)`), **Select From Anchor to Cursor**\n",
      "(`kb(editor.action.selectFromAnchorToCursor)`), **Cancel Selection Anchor** (`kb(editor.action.cancelSelectionAnchor)`)\n",
      "and **Go to Selection Anchor**.  ## Tab navigation  You can use the `kbstyle(Tab)` key to navigate between UI controls\n",
      "in VS Code. Use `kbstyle(Shift+Tab)` to tab in reverse order. As you tab through the UI controls, an indicator will\n",
      "appear around each UI element when it has focus.  All elements in the workbench support tab navigation. To avoid having\n",
      "too many tab stops, workbench toolbars and tab lists each have only one. Once a toolbar or a tab list has focus, you can\n",
      "use the arrow keys to navigate within them.  > **Note**: Tab navigation goes in the visually natural order, with the\n",
      "exception of WebViews (like Markdown preview). For WebViews, we recommend using the `kb(workbench.action.focusNextPart)`\n",
      "and `kb(workbench.action.focusPreviousPart)` commands to navigate between the WebViews and the rest of the workbench.\n",
      "Alternatively, you can use one of many Focus Editor commands.  ## Tab trapping  By default, pressing `kbstyle(Tab)`\n",
      "within a source code file inserts the Tab character (or spaces depending on your indentation setting) and does not leave\n",
      "the open file. You can toggle `kbstyle(Tab)` trapping with `kb(editor.action.toggleTabFocusMode)`, and subsequent\n",
      "`kbstyle(Tab)` keys will move focus out of the file.  When default `kbstyle(Tab)` trapping is off, you will see a **Tab\n",
      "moves focus** indicator in the Status Bar.  Tab trapping also exists in the integrated terminal. The default behavior\n",
      "for the feature can be configured with `editor.tabFocusMode`.  ![A Tab moves focus status bar item shows when the mode\n",
      "is active](images/accessibility/tab-moves-focus.png)  You can also toggle `kbstyle(Tab)` trapping on and off from the\n",
      "**Command Palette** (`kb(workbench.action.showCommands)`) with the **Toggle Tab Key Moves Focus** action.  Read-only\n",
      "files never trap the `kbstyle(Tab)` key. The **Integrated Terminal** panel respects the `kbstyle(Tab)` trapping mode and\n",
      "can be toggled with `kb(editor.action.toggleTabFocusMode)`.  ## Screen readers  VS Code supports screen readers in the\n",
      "editor using a strategy based on text pagination. The following screen readers have been tested:  * Windows:\n",
      "[NVDA](https://www.nvaccess.org) and [JAWS](https://www.freedomscientific.com/products/software/jaws) * macOS:\n",
      "[VoiceOver](https://support.apple.com/guide/voiceover/welcome/mac) * Linux:\n",
      "[Orca](https://help.gnome.org/users/orca/stable/introduction.html)\n"
     ]
    }
   ],
   "source": [
    "from utilities import print_long_text\n",
    "\n",
    "\n",
    "print_long_text(docs[1].page_content)"
   ]
  },
  {
   "cell_type": "code",
   "execution_count": 11,
   "metadata": {},
   "outputs": [
    {
     "name": "stderr",
     "output_type": "stream",
     "text": [
      " 25%|██▌       | 1/4 [00:02<00:07,  2.48s/it]"
     ]
    },
    {
     "name": "stdout",
     "output_type": "stream",
     "text": [
      "content='Question: What are the keyboard shortcuts to adjust zoom level in VS Code?\\nAnswer: `kb(workbench.action.zoomIn)` for Zoom In, `kb(workbench.action.zoomOut)` for Zoom Out, and `kb(workbench.action.zoomReset)` for Reset Zoom.\\n\\nQuestion: Which setting persists the zoom level in VS Code?\\nAnswer: `window.zoomLevel`\\n\\nQuestion: How can users open accessibility help in VS Code?\\nAnswer: Using the command **Open Accessibility Help** `kb(editor.action.accessibilityHelp)`.\\n\\nQuestion: What is the keyboard shortcut to open the Select Color Theme dropdown?\\nAnswer: `kb(workbench.action.selectTheme)`\\n\\nQuestion: Which color themes are recommended for color vision accessibility?\\nAnswer: GitHub, Gotthard, Blinds, Greative, and Pitaya Smoothie.' response_metadata={'token_usage': {'prompt_tokens': 2013, 'total_tokens': 2230, 'completion_tokens': 217}, 'model': 'mistral-small', 'finish_reason': 'stop'} id='run-6cb92657-0c36-4569-a7b7-378aacba34a9-0'\n"
     ]
    },
    {
     "name": "stderr",
     "output_type": "stream",
     "text": [
      " 50%|█████     | 2/4 [00:05<00:06,  3.08s/it]"
     ]
    },
    {
     "name": "stdout",
     "output_type": "stream",
     "text": [
      "content='Question: What is the purpose of assigning colors to `editorError` and `editorWarning`?\\nAnswer: Assigning colors to the background of `editorError` and `editorWarning` helps to identify potential issues and highlights the respective error or warning.\\n\\nQuestion: What is the best approach to select colors for accessibility?\\nAnswer: The best approach is to apply complementary colors, which are colors located opposite of one another on a color wheel.\\n\\nQuestion: What command enables dimming unfocused views in VS Code?\\nAnswer: The command is \"accessibility.dimUnfocused.enabled\".\\n\\nQuestion: What keys can be used to navigate between UI controls in VS Code?\\nAnswer: The `kbstyle(Tab)` key can be used to navigate forward and `kbstyle(Shift+Tab)` can be used to navigate in reverse order.\\n\\nQuestion: What is the purpose of the \"Toggle Tab Key Moves Focus\" action in VS Code?\\nAnswer: This action toggles `kbstyle(Tab)` trapping on and off, allowing focus to move out of the file or terminal.' response_metadata={'token_usage': {'prompt_tokens': 1921, 'total_tokens': 2168, 'completion_tokens': 247}, 'model': 'mistral-small', 'finish_reason': 'stop'} id='run-cbf09e84-b710-477c-9224-f4105c6e5301-0'\n"
     ]
    },
    {
     "name": "stderr",
     "output_type": "stream",
     "text": [
      " 75%|███████▌  | 3/4 [00:08<00:02,  2.91s/it]"
     ]
    },
    {
     "name": "stdout",
     "output_type": "stream",
     "text": [
      "content='Question: What screen reader is recommended for NVDA in Windows?\\nAnswer: It is recommended to stay in focus mode and use hotkeys to navigate in NVDA for Windows.\\n\\nQuestion: What command is used to run Accessible View?\\nAnswer: The command **Open Accessible View** `kb(editor.action.accessibleView)` is used to run Accessible View.\\n\\nQuestion: What does screen reader optimized mode do in VS Code?\\nAnswer: Screen reader optimized mode in VS Code optimizes UI such as the editor and Integrated Terminal for screen reader use.\\n\\nQuestion: How to navigate between an input control and its results?\\nAnswer: You can navigate between an input control and its results using (`kb(widgetNavigation.focusNext)`) and (`kb(widgetNavigation.focusPrevious)`).\\n\\nQuestion: What is the purpose of the `terminal.integrated.minimumContrastRatio` setting?\\nAnswer: The `terminal.integrated.minimumContrastRatio` setting adjusts text color luminance to meet a desired contrast ratio or pure white/black.' response_metadata={'token_usage': {'prompt_tokens': 1876, 'total_tokens': 2125, 'completion_tokens': 249}, 'model': 'mistral-small', 'finish_reason': 'stop'} id='run-f14d6a76-864e-4503-a411-23350f9c73cd-0'\n"
     ]
    },
    {
     "name": "stderr",
     "output_type": "stream",
     "text": [
      "100%|██████████| 4/4 [00:11<00:00,  2.87s/it]"
     ]
    },
    {
     "name": "stdout",
     "output_type": "stream",
     "text": [
      "content='Question: What type of markers do accessibility signals indicate?\\nAnswer: Accessibility signals indicate if the current line has certain markers such as: errors, warnings, breakpoints, folded text regions or inline suggestions.\\n\\nQuestion: How can one control the enabled/disabled status of accessibility signal sounds?\\nAnswer: The enabled/disabled status of accessibility signal sounds can be controlled by the settings `accessibility.signals.*`.\\n\\nQuestion: What command lists all available signal announcements and allows for configuring their enabled/disabled status?\\nAnswer: The command **Help: List Signal Announcements** informs the user of which signal announcements are available and allows for configuring their enabled/disabled status.\\n\\nQuestion: Which key can be held to lock a hover in place on Linux systems?\\nAnswer: On Linux systems, holding the `kbstyle(Alt)` or `kbstyle(Option)` key while a hover is active will lock it in place.\\n\\nQuestion: What setting needs to be enabled to make VS Code work with the Orca screen reader on Linux?\\nAnswer: The setting `\"editor.accessibilitySupport\": \"on\"` needs to be enabled to make VS Code work with the Orca screen reader on Linux.' response_metadata={'token_usage': {'prompt_tokens': 957, 'total_tokens': 1228, 'completion_tokens': 271}, 'model': 'mistral-small', 'finish_reason': 'stop'} id='run-1f28369b-1383-4616-8b4e-d4c2a783be1e-0'\n"
     ]
    },
    {
     "name": "stderr",
     "output_type": "stream",
     "text": [
      "\n"
     ]
    }
   ],
   "source": [
    "from tqdm import tqdm\n",
    "\n",
    "generator = DataGenerator()\n",
    "\n",
    "results = []\n",
    "for i in tqdm(docs):\n",
    "    q_a = generator.generate_questions_from_document(i, 5)\n",
    "    print(q_a)\n",
    "    results.append(q_a)"
   ]
  },
  {
   "cell_type": "code",
   "execution_count": 12,
   "metadata": {},
   "outputs": [
    {
     "data": {
      "text/plain": [
       "3891"
      ]
     },
     "execution_count": 12,
     "metadata": {},
     "output_type": "execute_result"
    }
   ],
   "source": [
    "f = project_root / 'synthetic_data_generation' / 'data.txt'  \n",
    "t = ''\n",
    "for i in results:\n",
    "    t += i.content\n",
    "    t += '\\n\\n'\n",
    "    \n",
    "f.write_text(t)"
   ]
  },
  {
   "cell_type": "code",
   "execution_count": 14,
   "metadata": {},
   "outputs": [],
   "source": [
    "qa_tuples = generator.extract_qa_tuples(t)"
   ]
  },
  {
   "cell_type": "code",
   "execution_count": null,
   "metadata": {},
   "outputs": [],
   "source": []
  }
 ],
 "metadata": {
  "kernelspec": {
   "display_name": "venv",
   "language": "python",
   "name": "python3"
  },
  "language_info": {
   "codemirror_mode": {
    "name": "ipython",
    "version": 3
   },
   "file_extension": ".py",
   "mimetype": "text/x-python",
   "name": "python",
   "nbconvert_exporter": "python",
   "pygments_lexer": "ipython3",
   "version": "3.10.2"
  }
 },
 "nbformat": 4,
 "nbformat_minor": 2
}
