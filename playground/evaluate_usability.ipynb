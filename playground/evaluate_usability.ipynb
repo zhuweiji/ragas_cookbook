{
 "cells": [
  {
   "cell_type": "code",
   "execution_count": 11,
   "metadata": {},
   "outputs": [],
   "source": [
    "from agents.basic_agents import BasicAgent\n",
    "from utilities import print_long_text\n",
    "\n",
    "from config.project_paths import synthetic_data_dir"
   ]
  },
  {
   "cell_type": "markdown",
   "metadata": {},
   "source": [
    "this notebook holds a function to run rag, evaluation and requerying \n",
    "\n",
    "code should be folded into an agent"
   ]
  },
  {
   "cell_type": "code",
   "execution_count": 10,
   "metadata": {},
   "outputs": [],
   "source": [
    "agent = BasicAgent()"
   ]
  },
  {
   "cell_type": "code",
   "execution_count": 12,
   "metadata": {},
   "outputs": [],
   "source": [
    "import logging\n",
    "import re\n",
    "\n",
    "logging.basicConfig(\n",
    "    format='%(name)s-%(levelname)s|%(lineno)d:  %(message)s', level=logging.INFO)\n",
    "log = logging.getLogger(__name__)\n",
    "\n",
    "\n",
    "def reretrieve__toc(question):\n",
    "    documents = agent.retriever._get_relevant_documents(question)\n",
    "\n",
    "    answer = agent.answer_question(\n",
    "        question, documents)\n",
    "\n",
    "    evaluation = agent.evaluate_answer(question, answer)\n",
    "    \n",
    "    \n",
    "    match = re.search(r\"Score \\(1-5\\): (\\d+)\", evaluation.content)\n",
    "\n",
    "    if match:\n",
    "        score = match.group(1)\n",
    "        print(f\"Extracted score: {score}\")\n",
    "\n",
    "        try:\n",
    "            if int(score.strip()) < 4:\n",
    "                new_answer = agent.regenerate_new_answer_from_evaluation(\n",
    "                    question, answer, evaluation)\n",
    "                print('\\n\\n regenerated answer:')\n",
    "                print_long_text(new_answer.content)\n",
    "        except Exception as e:\n",
    "            print(e)\n",
    "\n",
    "    else:\n",
    "        print(\"Score not found in the string.\")\n",
    "\n",
    "    print('\\n\\ndocs:')\n",
    "\n",
    "    for i in documents:\n",
    "        print(i.metadata)\n",
    "        print_long_text(i.page_content)"
   ]
  },
  {
   "cell_type": "code",
   "execution_count": 18,
   "metadata": {},
   "outputs": [
    {
     "data": {
      "text/plain": [
       "43"
      ]
     },
     "execution_count": 18,
     "metadata": {},
     "output_type": "execute_result"
    }
   ],
   "source": [
    "qna_files = list(synthetic_data_dir.rglob('*.csv'))\n",
    "len(qna_files)"
   ]
  },
  {
   "cell_type": "code",
   "execution_count": 19,
   "metadata": {},
   "outputs": [],
   "source": [
    "from synthetic_data_generation.generate_syn_data import csv_to_list"
   ]
  },
  {
   "cell_type": "code",
   "execution_count": 23,
   "metadata": {},
   "outputs": [
    {
     "ename": "ValueError",
     "evalue": "Sample larger than population or is negative",
     "output_type": "error",
     "traceback": [
      "\u001b[1;31m---------------------------------------------------------------------------\u001b[0m",
      "\u001b[1;31mValueError\u001b[0m                                Traceback (most recent call last)",
      "Cell \u001b[1;32mIn[23], line 7\u001b[0m\n\u001b[0;32m      5\u001b[0m qnas \u001b[38;5;241m=\u001b[39m []\n\u001b[0;32m      6\u001b[0m \u001b[38;5;28;01mfor\u001b[39;00m i \u001b[38;5;129;01min\u001b[39;00m random_qna_sample:\n\u001b[1;32m----> 7\u001b[0m     qnas\u001b[38;5;241m.\u001b[39mextend(\u001b[43mrandom\u001b[49m\u001b[38;5;241;43m.\u001b[39;49m\u001b[43msample\u001b[49m\u001b[43m(\u001b[49m\u001b[43mcsv_to_list\u001b[49m\u001b[43m(\u001b[49m\u001b[43mi\u001b[49m\u001b[43m)\u001b[49m\u001b[43m,\u001b[49m\u001b[43m \u001b[49m\u001b[38;5;241;43m4\u001b[39;49m\u001b[43m)\u001b[49m)\n",
      "File \u001b[1;32mC:\\Python310\\lib\\random.py:482\u001b[0m, in \u001b[0;36mRandom.sample\u001b[1;34m(self, population, k, counts)\u001b[0m\n\u001b[0;32m    480\u001b[0m randbelow \u001b[38;5;241m=\u001b[39m \u001b[38;5;28mself\u001b[39m\u001b[38;5;241m.\u001b[39m_randbelow\n\u001b[0;32m    481\u001b[0m \u001b[38;5;28;01mif\u001b[39;00m \u001b[38;5;129;01mnot\u001b[39;00m \u001b[38;5;241m0\u001b[39m \u001b[38;5;241m<\u001b[39m\u001b[38;5;241m=\u001b[39m k \u001b[38;5;241m<\u001b[39m\u001b[38;5;241m=\u001b[39m n:\n\u001b[1;32m--> 482\u001b[0m     \u001b[38;5;28;01mraise\u001b[39;00m \u001b[38;5;167;01mValueError\u001b[39;00m(\u001b[38;5;124m\"\u001b[39m\u001b[38;5;124mSample larger than population or is negative\u001b[39m\u001b[38;5;124m\"\u001b[39m)\n\u001b[0;32m    483\u001b[0m result \u001b[38;5;241m=\u001b[39m [\u001b[38;5;28;01mNone\u001b[39;00m] \u001b[38;5;241m*\u001b[39m k\n\u001b[0;32m    484\u001b[0m setsize \u001b[38;5;241m=\u001b[39m \u001b[38;5;241m21\u001b[39m        \u001b[38;5;66;03m# size of a small set minus size of an empty list\u001b[39;00m\n",
      "\u001b[1;31mValueError\u001b[0m: Sample larger than population or is negative"
     ]
    }
   ],
   "source": [
    "import random\n",
    "\n",
    "random_qna_sample = random.sample(qna_files, 15)\n",
    "\n",
    "qnas = []\n",
    "for i in random_qna_sample:\n",
    "    qnas.extend(random.sample(csv_to_list(i), 4))\n"
   ]
  },
  {
   "cell_type": "code",
   "execution_count": 26,
   "metadata": {},
   "outputs": [
    {
     "data": {
      "text/plain": [
       "[['How can you run a simple Java AWT application in Visual Studio Code?',\n",
       "  'You can run a simple Java AWT application by copying and pasting the provided sample code into a new file in Visual Studio Code.'],\n",
       " ['How can you run a JavaFX application in Visual Studio Code?',\n",
       "  'You can run a JavaFX application by opening the Maven Explorer, expanding `hellofx` > `Plugins` > `javafx`, and then running the Maven goal: `javafx:run`.'],\n",
       " ['How can you create a new JavaFX project in Visual Studio Code?',\n",
       "  'You can create a new JavaFX application by installing the Extension Pack for Java, opening the Command Palette, selecting the command \"Java: Create Java Project\", and then following the wizard to scaffold a new JavaFX project via Maven Archetype.'],\n",
       " ['How can you enable code completions for AWT development in Visual Studio Code?',\n",
       "  'You can enable completions for AWT development by opening the Command Palette, selecting the command \"Java: Help Center\", going to the \"Student\" section, and selecting \"Enable AWT Development\".'],\n",
       " ['How can you disable automatic injection of the shell integration script in Visual Studio Code?',\n",
       "  'You can disable automatic injection of the shell integration script in Visual Studio Code by setting `terminal.integrated.shellIntegration.enabled` to `false`.'],\n",
       " ['What maintains compatibility for the terminal on Windows?',\n",
       "  'ConPTY, an emulated pseudoterminal (pty) backend, maintains compatibility for the terminal on Windows by working differently than a regular pty and handling rendering in a special way.'],\n",
       " ['What is the recommended way to enable shell integration for advanced use cases in Visual Studio Code?',\n",
       "  'The recommended way to enable shell integration for advanced use cases in Visual Studio Code is through manual installation.'],\n",
       " ['What is the effect of the \"terminal.integrated.shellIntegration.decorationsEnabled\": never setting?',\n",
       "  'This setting disables command decorations in the integrated terminal, meaning command-aware features like command navigation will not be available.'],\n",
       " ['How can you balance network traffic across Pods?',\n",
       "  'You can create an external or internal network load balancer to balance network traffic across Pods.'],\n",
       " ['How can you restrict IP addresses that can be assigned to a service in Kubernetes?',\n",
       "  'You can restrict IP addresses that can be assigned to a service with `externalIPs`.'],\n",
       " ['What helps new users deploy a sample application in Kubernetes?',\n",
       "  'The topic \"Deploy a sample application\" helps new users deploy a sample application in Kubernetes.'],\n",
       " ['What is the role of the Kubernetes Vertical Pod Autoscaler?',\n",
       "  'The Kubernetes Vertical Pod Autoscaler scales Pods up or down vertically to meet demand.'],\n",
       " ['What action should be taken after executing the command in Step 2?',\n",
       "  \"After executing the command in Step 2, one should browse to the horizontal line in the upper left corner, type 'Displays', look for 'Scale', set it to their preference, and click 'Apply'.\"],\n",
       " ['How can one enable fractional scaling on Wayland in Step 2?',\n",
       "  \"In Step 2, one can enable fractional scaling on Wayland by executing a command in the terminal, setting the 'Scale' to their preference, and clicking 'Apply'.\"],\n",
       " [\"What should be clicked to open 'Mouse and Touchpad' in Step 3?\",\n",
       "  \"In Step 3, 'Mouse and Touchpad' can be clicked to open by looking for it under the 'mouse' option in the horizontal line in the upper left corner.\"],\n",
       " [\"Which option should be enabled under 'Clicking' in Step 3 to enable 'tap-to-click' on the touchpad?\",\n",
       "  \"To enable 'tap-to-click' on the touchpad in Step 3, 'Tap to Click' should be selected and enabled under 'Clicking'.\"],\n",
       " ['When will knowledge about declaring dependencies for a group of path operations be covered?',\n",
       "  'Knowledge about declaring dependencies for a group of path operations will be covered in the section about structuring bigger applications with multiple files.'],\n",
       " ['How can dependencies be added to FastAPI application?',\n",
       "  'Dependencies can be added to FastAPI application by using the `dependencies` parameter in the application constructor.'],\n",
       " ['What is the effect of adding dependencies to all path operations?',\n",
       "  'When dependencies are added to all path operations, they will be applied to all the path operations in the application.'],\n",
       " ['What is the recommended way to declare dependencies in FastAPI?',\n",
       "  'The recommended way to declare dependencies in FastAPI is by using the `Annotated` version, as it provides better type checking and error messages.'],\n",
       " ['What does the `jsonable_encoder` do in this context?',\n",
       "  'The `jsonable_encoder` is used to convert input data to data that can be stored as JSON, such as converting `datetime` to `str`.'],\n",
       " [\"What does the `update` parameter do in Pydantic's `.model_copy()`?\",\n",
       "  \"The `update` parameter in Pydantic's `.model_copy()` creates a copy of the existing model and updates its attributes with the data to update.\"],\n",
       " ['What happens if an attribute is not included in a `PUT` request?',\n",
       "  'If an attribute is not included in a `PUT` request, the input model would take the default value of that attribute.'],\n",
       " [\"What is the purpose of using the `exclude_unset` parameter in Pydantic's model's `.model_dump()`?\",\n",
       "  \"The `exclude_unset` parameter in Pydantic's model's `.model_dump()` generates a `dict` with only the data that was set when creating the model, excluding default values.\"],\n",
       " ['Which folders should be excluded for `webpack` and `webpack-dev-server`?',\n",
       "  'The content folder, for example `dist`, should be excluded for `webpack` and `webpack-dev-server`.'],\n",
       " ['Which folder should be excluded for `node` components?',\n",
       "  'The `node_modules` folder should be excluded for `node` components.'],\n",
       " ['What is the role of \"include\" property in `jsconfig.json`?',\n",
       "  'The \"include\" property sets the files in your project explicitly. If no \"include\" attribute is present, then all files in the containing directory and subdirectories are included.'],\n",
       " ['What does the \"target\" option in `jsconfig.json` do?',\n",
       "  'The \"target\" option specifies which default library (lib.d.ts) to use for type checking.'],\n",
       " ['How can you update variables that apply to the entire container in Docker Compose?',\n",
       "  \"You can update (or extend) your 'docker-compose.yml' with the 'environment' property for the appropriate service.\"],\n",
       " [\"What is the purpose of using an 'env file' for environment variables?\",\n",
       "  \"The purpose of using an 'env file' is to set a large number of environment variables.\"],\n",
       " [\"What is the purpose of 'containerEnv' property in 'devcontainer.json'?\",\n",
       "  \"The 'containerEnv' property in 'devcontainer.json' sets variables that should apply to the entire container.\"],\n",
       " [\"What variable can 'remoteEnv' reference in 'devcontainer.json'?\",\n",
       "  \"'remoteEnv' can reference both local and existing container variables in 'devcontainer.json'.\"],\n",
       " ['What feature of VS Code is used for PHP language diagnostics?',\n",
       "  'VS Code uses the official PHP linter (`php -l`) for PHP language diagnostics.'],\n",
       " ['How to disable built-in PHP support in VS Code?',\n",
       "  'To disable the built-in PHP smart completions in favor of suggestions from an installed PHP extension, uncheck **PHP > Suggest: Basic** in the settings.'],\n",
       " ['How to change the PHP settings in VS Code?',\n",
       "  \"To change the PHP settings, open your User or Workspace Settings (`kb(workbench.action.openSettings)`) and type 'php' to filter the list of available settings.\"],\n",
       " ['What is required to use XDebug for PHP debugging in VS Code?',\n",
       "  \"PHP debugging with **XDebug** is supported through a [PHP Debug extension](https://marketplace.visualstudio.com/items?itemName=xdebug.php-debug). Follow the extension's instructions for configuring **XDebug** to work with VS Code.\"]]"
      ]
     },
     "execution_count": 26,
     "metadata": {},
     "output_type": "execute_result"
    }
   ],
   "source": [
    "qnas"
   ]
  },
  {
   "cell_type": "code",
   "execution_count": 27,
   "metadata": {},
   "outputs": [
    {
     "name": "stdout",
     "output_type": "stream",
     "text": [
      "question:\n",
      "How can you run a simple Java AWT application in Visual Studio Code?\n",
      "\n",
      "\n",
      "ground truth:\n",
      "You can run a simple Java AWT application by copying and pasting the provided sample code into a new file in Visual Studio Code.\n"
     ]
    },
    {
     "name": "stderr",
     "output_type": "stream",
     "text": [
      "httpx-INFO|1026:  HTTP Request: POST https://api.mistral.ai/v1/chat/completions \"HTTP/1.1 200 OK\"\n",
      "httpx-INFO|1026:  HTTP Request: POST https://api.mistral.ai/v1/chat/completions \"HTTP/1.1 200 OK\"\n"
     ]
    },
    {
     "name": "stdout",
     "output_type": "stream",
     "text": [
      "\n",
      "\n",
      "generated answer:content='Context is irrelevant to the question.\\n\\nThe context provided is about creating and running a Java web application in Visual Studio Code, while the question is about running a simple Java AWT (Abstract Window Toolkit) application. These are two different types of Java applications, so the information provided in the context is not relevant to the question.' response_metadata={'token_usage': {'prompt_tokens': 432, 'total_tokens': 500, 'completion_tokens': 68}, 'model': 'mistral-small', 'finish_reason': 'stop'} id='run-7c1d30d2-3f75-4822-8e5f-575dcf20729e-0'\n",
      "\n",
      "\n",
      "evaluation score:2\n",
      "\n",
      "\n",
      "\n",
      "question:\n",
      "How can you run a JavaFX application in Visual Studio Code?\n",
      "\n",
      "\n",
      "ground truth:\n",
      "You can run a JavaFX application by opening the Maven Explorer, expanding `hellofx` > `Plugins` > `javafx`, and then running the Maven goal: `javafx:run`.\n"
     ]
    },
    {
     "name": "stderr",
     "output_type": "stream",
     "text": [
      "httpx-INFO|1026:  HTTP Request: POST https://api.mistral.ai/v1/chat/completions \"HTTP/1.1 200 OK\"\n",
      "httpx-INFO|1026:  HTTP Request: POST https://api.mistral.ai/v1/chat/completions \"HTTP/1.1 200 OK\"\n"
     ]
    },
    {
     "name": "stdout",
     "output_type": "stream",
     "text": [
      "\n",
      "\n",
      "generated answer:content='To run a JavaFX application in Visual Studio Code, you can follow these steps:\\n\\n1. Install the Extension Pack for Java.\\n2. In Visual Studio Code, open the Command Palette and select the command Java: Create Java Project.\\n3. Select the option JavaFX in the list, follow the wizard, which will help you scaffold a new JavaFX project via Maven Archetype.\\n\\nThe debugger extension provides multiple ways to run and debug your Java application.\\n\\nReason: The context provided is relevant to the question.' response_metadata={'token_usage': {'prompt_tokens': 408, 'total_tokens': 525, 'completion_tokens': 117}, 'model': 'mistral-small', 'finish_reason': 'stop'} id='run-da6af42d-4b59-44f8-b334-9c8ccb84613f-0'\n",
      "\n",
      "\n",
      "evaluation score:4\n",
      "\n",
      "\n",
      "\n",
      "question:\n",
      "How can you create a new JavaFX project in Visual Studio Code?\n",
      "\n",
      "\n",
      "ground truth:\n",
      "You can create a new JavaFX application by installing the Extension Pack for Java, opening the Command Palette, selecting the command \"Java: Create Java Project\", and then following the wizard to scaffold a new JavaFX project via Maven Archetype.\n"
     ]
    },
    {
     "name": "stderr",
     "output_type": "stream",
     "text": [
      "httpx-INFO|1026:  HTTP Request: POST https://api.mistral.ai/v1/chat/completions \"HTTP/1.1 200 OK\"\n",
      "httpx-INFO|1026:  HTTP Request: POST https://api.mistral.ai/v1/chat/completions \"HTTP/1.1 200 OK\"\n"
     ]
    },
    {
     "name": "stdout",
     "output_type": "stream",
     "text": [
      "\n",
      "\n",
      "generated answer:content='To create a new JavaFX project in Visual Studio Code, follow these steps:\\n\\n1. Install the Extension Pack for Java.\\n2. Open the Command Palette and select the command `Java: Create Java Project`.\\n3. Select the option `JavaFX` in the list, and follow the wizard to scaffold a new JavaFX project via Maven Archetype.\\n\\nAdditional JavaFX project examples can be found in the openjfx samples repository, which covers different project structures such as Gradle and unmanaged folder projects.' response_metadata={'token_usage': {'prompt_tokens': 510, 'total_tokens': 625, 'completion_tokens': 115}, 'model': 'mistral-small', 'finish_reason': 'stop'} id='run-e0990e56-1f0a-46a4-b6bf-3a58a809bf0d-0'\n",
      "\n",
      "\n",
      "evaluation score:5\n",
      "\n",
      "\n",
      "\n",
      "question:\n",
      "How can you enable code completions for AWT development in Visual Studio Code?\n",
      "\n",
      "\n",
      "ground truth:\n",
      "You can enable completions for AWT development by opening the Command Palette, selecting the command \"Java: Help Center\", going to the \"Student\" section, and selecting \"Enable AWT Development\".\n"
     ]
    },
    {
     "name": "stderr",
     "output_type": "stream",
     "text": [
      "httpx-INFO|1026:  HTTP Request: POST https://api.mistral.ai/v1/chat/completions \"HTTP/1.1 200 OK\"\n",
      "httpx-INFO|1026:  HTTP Request: POST https://api.mistral.ai/v1/chat/completions \"HTTP/1.1 200 OK\"\n"
     ]
    },
    {
     "name": "stdout",
     "output_type": "stream",
     "text": [
      "\n",
      "\n",
      "generated answer:content='To enable code completions for AWT development in Visual Studio Code, open the Command Palette and select the command \"Java: Help Center\". Go to the \"Student\" section and select \"Enable AWT Development\". This action will update a setting, `java.completion.filteredTypes`, at the workspace level in `.vscode\\\\settings.json`.' response_metadata={'token_usage': {'prompt_tokens': 1009, 'total_tokens': 1085, 'completion_tokens': 76}, 'model': 'mistral-small', 'finish_reason': 'stop'} id='run-8140413b-a59d-4371-9f80-ff6705055262-0'\n",
      "\n",
      "\n",
      "evaluation score:4\n",
      "\n",
      "\n",
      "\n",
      "question:\n",
      "How can you disable automatic injection of the shell integration script in Visual Studio Code?\n",
      "\n",
      "\n",
      "ground truth:\n",
      "You can disable automatic injection of the shell integration script in Visual Studio Code by setting `terminal.integrated.shellIntegration.enabled` to `false`.\n"
     ]
    },
    {
     "name": "stderr",
     "output_type": "stream",
     "text": [
      "httpx-INFO|1026:  HTTP Request: POST https://api.mistral.ai/v1/chat/completions \"HTTP/1.1 200 OK\"\n",
      "httpx-INFO|1026:  HTTP Request: POST https://api.mistral.ai/v1/chat/completions \"HTTP/1.1 200 OK\"\n"
     ]
    },
    {
     "name": "stdout",
     "output_type": "stream",
     "text": [
      "\n",
      "\n",
      "generated answer:content='The context provided is about debugging in Visual Studio Code, specifically for JavaScript, and the automatic attachment of debuggers. There is no information about disabling the automatic injection of the shell integration script in the terminal of Visual Studio Code.\\n\\nAnswer: Context is irrelevant to the question.' response_metadata={'token_usage': {'prompt_tokens': 907, 'total_tokens': 966, 'completion_tokens': 59}, 'model': 'mistral-small', 'finish_reason': 'stop'} id='run-fc35ad4d-19ac-484e-9b68-e4e146bbc909-0'\n",
      "\n",
      "\n",
      "evaluation score:2\n",
      "\n",
      "\n",
      "\n",
      "question:\n",
      "What maintains compatibility for the terminal on Windows?\n",
      "\n",
      "\n",
      "ground truth:\n",
      "ConPTY, an emulated pseudoterminal (pty) backend, maintains compatibility for the terminal on Windows by working differently than a regular pty and handling rendering in a special way.\n"
     ]
    },
    {
     "name": "stderr",
     "output_type": "stream",
     "text": [
      "httpx-INFO|1026:  HTTP Request: POST https://api.mistral.ai/v1/chat/completions \"HTTP/1.1 200 OK\"\n",
      "httpx-INFO|1026:  HTTP Request: POST https://api.mistral.ai/v1/chat/completions \"HTTP/1.1 200 OK\"\n"
     ]
    },
    {
     "name": "stdout",
     "output_type": "stream",
     "text": [
      "\n",
      "\n",
      "generated answer:content='The `winpty` library, developed by Ryan Prichard, maintains compatibility for the terminal on Windows. It was recently upgraded, fixing issues such as arrow keys not functioning and the prompt line going out of sync.' response_metadata={'token_usage': {'prompt_tokens': 669, 'total_tokens': 715, 'completion_tokens': 46}, 'model': 'mistral-small', 'finish_reason': 'stop'} id='run-134715a2-4fa0-475c-97f7-d033ffe0aafe-0'\n",
      "\n",
      "\n",
      "evaluation score:4\n",
      "\n",
      "\n",
      "\n",
      "question:\n",
      "What is the recommended way to enable shell integration for advanced use cases in Visual Studio Code?\n",
      "\n",
      "\n",
      "ground truth:\n",
      "The recommended way to enable shell integration for advanced use cases in Visual Studio Code is through manual installation.\n"
     ]
    },
    {
     "name": "stderr",
     "output_type": "stream",
     "text": [
      "httpx-INFO|1026:  HTTP Request: POST https://api.mistral.ai/v1/chat/completions \"HTTP/1.1 200 OK\"\n",
      "httpx-INFO|1026:  HTTP Request: POST https://api.mistral.ai/v1/chat/completions \"HTTP/1.1 200 OK\"\n"
     ]
    },
    {
     "name": "stdout",
     "output_type": "stream",
     "text": [
      "\n",
      "\n",
      "generated answer:content='The recommended way to enable shell integration for advanced use cases in Visual Studio Code is manual installation. This is necessary for sub-shells, through a regular ssh session (when not using the Remote - SSH extension), or for some complex shell setups. The manual installation process involves resolving the path to the shell integration script and adding it directly into your init script. This approach may lead to a slight delay in shell startup, but it ensures compatibility across different platforms and installation types.' response_metadata={'token_usage': {'prompt_tokens': 649, 'total_tokens': 748, 'completion_tokens': 99}, 'model': 'mistral-small', 'finish_reason': 'stop'} id='run-b4d249ba-4cac-47a7-8aff-dfe2fbfc9cc6-0'\n",
      "\n",
      "\n",
      "evaluation score:4\n",
      "\n",
      "\n",
      "\n",
      "question:\n",
      "What is the effect of the \"terminal.integrated.shellIntegration.decorationsEnabled\": never setting?\n",
      "\n",
      "\n",
      "ground truth:\n",
      "This setting disables command decorations in the integrated terminal, meaning command-aware features like command navigation will not be available.\n"
     ]
    },
    {
     "name": "stderr",
     "output_type": "stream",
     "text": [
      "httpx-INFO|1026:  HTTP Request: POST https://api.mistral.ai/v1/chat/completions \"HTTP/1.1 200 OK\"\n",
      "httpx-INFO|1026:  HTTP Request: POST https://api.mistral.ai/v1/chat/completions \"HTTP/1.1 200 OK\"\n"
     ]
    },
    {
     "name": "stdout",
     "output_type": "stream",
     "text": [
      "\n",
      "\n",
      "generated answer:content='The setting `\"terminal.integrated.shellIntegration.decorationsEnabled\": never` will disable the display of any decorations (such as icons or animations) on the right of the terminal tab for the integrated terminal in Visual Studio Code, except when the terminal is being actively interacted with (for example, when the user is typing in it or a command is running). This can help minimize distractions while using the terminal.' response_metadata={'token_usage': {'prompt_tokens': 804, 'total_tokens': 896, 'completion_tokens': 92}, 'model': 'mistral-small', 'finish_reason': 'stop'} id='run-02c7a334-4bff-41e2-b19e-13768d0756db-0'\n",
      "\n",
      "\n",
      "evaluation score:3\n",
      "\n",
      "\n",
      "\n",
      "question:\n",
      "How can you balance network traffic across Pods?\n",
      "\n",
      "\n",
      "ground truth:\n",
      "You can create an external or internal network load balancer to balance network traffic across Pods.\n"
     ]
    },
    {
     "name": "stderr",
     "output_type": "stream",
     "text": [
      "httpx-INFO|1026:  HTTP Request: POST https://api.mistral.ai/v1/chat/completions \"HTTP/1.1 200 OK\"\n",
      "httpx-INFO|1026:  HTTP Request: POST https://api.mistral.ai/v1/chat/completions \"HTTP/1.1 200 OK\"\n"
     ]
    },
    {
     "name": "stdout",
     "output_type": "stream",
     "text": [
      "\n",
      "\n",
      "generated answer:content='To balance network traffic across Pods, you can create either an external or internal network load balancer (which routes traffic at Layer 4 of the OSI model) or an Application load balancer (which routes traffic at Layer 7 of the OSI model) in Kubernetes. These load balancers distribute network traffic across the Pods that provide the same service.' response_metadata={'token_usage': {'prompt_tokens': 899, 'total_tokens': 976, 'completion_tokens': 77}, 'model': 'mistral-small', 'finish_reason': 'stop'} id='run-7a10ff02-581a-48fa-816f-77d090e76413-0'\n",
      "\n",
      "\n",
      "evaluation score:5\n",
      "\n",
      "\n",
      "\n",
      "question:\n",
      "How can you restrict IP addresses that can be assigned to a service in Kubernetes?\n",
      "\n",
      "\n",
      "ground truth:\n",
      "You can restrict IP addresses that can be assigned to a service with `externalIPs`.\n"
     ]
    },
    {
     "name": "stderr",
     "output_type": "stream",
     "text": [
      "httpx-INFO|1026:  HTTP Request: POST https://api.mistral.ai/v1/chat/completions \"HTTP/1.1 200 OK\"\n",
      "httpx-INFO|1026:  HTTP Request: POST https://api.mistral.ai/v1/chat/completions \"HTTP/1.1 200 OK\"\n"
     ]
    },
    {
     "name": "stdout",
     "output_type": "stream",
     "text": [
      "\n",
      "\n",
      "generated answer:content='To restrict the IP addresses that can be specified for `externalIPs` in a Kubernetes service, you can follow these steps:\\n\\n1. Deploy `cert-manager` to manage webhook certificates.\\n2. Verify that the `cert-manager` Pods are running.\\n3. Review your existing services to ensure that none of them have external IP addresses assigned to them that aren\\'t contained within the CIDR block you want to limit addresses to.\\n4. Download the external IP webhook manifest.\\n5. Specify CIDR blocks in the downloaded file.\\n6. If your cluster is not in the `us-west-2` AWS Region, replace `us-west-2`, `602401143452`, and `amazonaws.com` in the file with the values for your AWS Region.\\n7. Apply the manifest to your cluster.\\n\\nAn attempt to deploy a service to your cluster with an IP address specified for `externalIPs` that is not contained in the blocks that you specified in the \"Specify CIDR blocks\" step will fail.\\n\\nReason: The context provides the instructions on how to restrict IP addresses that can be assigned to a service in Kubernetes, so it is not irrelevant. The answer is also provided confidently, so no \"I do not know the answer\" reason is necessary.' response_metadata={'token_usage': {'prompt_tokens': 2414, 'total_tokens': 2708, 'completion_tokens': 294}, 'model': 'mistral-small', 'finish_reason': 'stop'} id='run-8e8690b8-2145-447a-8df5-3c40df0dd5a9-0'\n",
      "\n",
      "\n",
      "evaluation score:5\n",
      "\n",
      "\n",
      "\n",
      "question:\n",
      "What helps new users deploy a sample application in Kubernetes?\n",
      "\n",
      "\n",
      "ground truth:\n",
      "The topic \"Deploy a sample application\" helps new users deploy a sample application in Kubernetes.\n"
     ]
    },
    {
     "name": "stderr",
     "output_type": "stream",
     "text": [
      "httpx-INFO|1026:  HTTP Request: POST https://api.mistral.ai/v1/chat/completions \"HTTP/1.1 200 OK\"\n",
      "httpx-INFO|1026:  HTTP Request: POST https://api.mistral.ai/v1/chat/completions \"HTTP/1.1 200 OK\"\n"
     ]
    },
    {
     "name": "stdout",
     "output_type": "stream",
     "text": [
      "\n",
      "\n",
      "generated answer:content='The Kubernetes extension provides autocompletion, code snippets, and verification for the Kubernetes manifest file, which helps new users deploy a sample application in Kubernetes. Once the manifest file is ready, they can use the \"Kubernetes: Create\" command to start a deployment. This workflow is demonstrated in the context provided.' response_metadata={'token_usage': {'prompt_tokens': 1391, 'total_tokens': 1459, 'completion_tokens': 68}, 'model': 'mistral-small', 'finish_reason': 'stop'} id='run-4736d550-1f88-443a-8ad6-e9a921c2c87b-0'\n",
      "\n",
      "\n",
      "evaluation score:4\n",
      "\n",
      "\n",
      "\n",
      "question:\n",
      "What is the role of the Kubernetes Vertical Pod Autoscaler?\n",
      "\n",
      "\n",
      "ground truth:\n",
      "The Kubernetes Vertical Pod Autoscaler scales Pods up or down vertically to meet demand.\n"
     ]
    },
    {
     "name": "stderr",
     "output_type": "stream",
     "text": [
      "httpx-INFO|1026:  HTTP Request: POST https://api.mistral.ai/v1/chat/completions \"HTTP/1.1 200 OK\"\n",
      "httpx-INFO|1026:  HTTP Request: POST https://api.mistral.ai/v1/chat/completions \"HTTP/1.1 200 OK\"\n"
     ]
    },
    {
     "name": "stdout",
     "output_type": "stream",
     "text": [
      "\n",
      "\n",
      "generated answer:content='The Vertical Pod Autoscaler in Kubernetes is used to automatically adjust the resource requests and limits of a container in a pod, based on the observed resource usage. It is used to ensure that the container has enough resources to run properly, while also making sure that resources are not being wasted. The Vertical Pod Autoscaler can be deployed to a Kubernetes cluster using the provided steps in the context. It is different from the Kubernetes Cluster Autoscaler, which adjusts the number of nodes in a cluster based on the resource usage of the pods.' response_metadata={'token_usage': {'prompt_tokens': 2522, 'total_tokens': 2641, 'completion_tokens': 119}, 'model': 'mistral-small', 'finish_reason': 'stop'} id='run-c1cffdbf-a1ed-4863-b021-bf4a811479dd-0'\n",
      "\n",
      "\n",
      "evaluation score:5\n",
      "\n",
      "\n",
      "\n",
      "question:\n",
      "What action should be taken after executing the command in Step 2?\n",
      "\n",
      "\n",
      "ground truth:\n",
      "After executing the command in Step 2, one should browse to the horizontal line in the upper left corner, type 'Displays', look for 'Scale', set it to their preference, and click 'Apply'.\n"
     ]
    },
    {
     "name": "stderr",
     "output_type": "stream",
     "text": [
      "httpx-INFO|1026:  HTTP Request: POST https://api.mistral.ai/v1/chat/completions \"HTTP/1.1 200 OK\"\n",
      "httpx-INFO|1026:  HTTP Request: POST https://api.mistral.ai/v1/chat/completions \"HTTP/1.1 200 OK\"\n"
     ]
    },
    {
     "name": "stdout",
     "output_type": "stream",
     "text": [
      "\n",
      "\n",
      "generated answer:content='The context does not provide information on what action should be taken after executing the command in Step 2. It only provides a list of commands with their corresponding keybindings and command identifiers.\\n\\nResponse: Context is irrelevant to the question.' response_metadata={'token_usage': {'prompt_tokens': 1724, 'total_tokens': 1775, 'completion_tokens': 51}, 'model': 'mistral-small', 'finish_reason': 'stop'} id='run-145eedf9-66b1-4d97-8346-c03bb2b85fad-0'\n",
      "\n",
      "\n",
      "evaluation score:2\n",
      "\n",
      "\n",
      "\n",
      "question:\n",
      "How can one enable fractional scaling on Wayland in Step 2?\n",
      "\n",
      "\n",
      "ground truth:\n",
      "In Step 2, one can enable fractional scaling on Wayland by executing a command in the terminal, setting the 'Scale' to their preference, and clicking 'Apply'.\n"
     ]
    },
    {
     "name": "stderr",
     "output_type": "stream",
     "text": [
      "httpx-INFO|1026:  HTTP Request: POST https://api.mistral.ai/v1/chat/completions \"HTTP/1.1 200 OK\"\n",
      "httpx-INFO|1026:  HTTP Request: POST https://api.mistral.ai/v1/chat/completions \"HTTP/1.1 200 OK\"\n"
     ]
    },
    {
     "name": "stdout",
     "output_type": "stream",
     "text": [
      "\n",
      "\n",
      "generated answer:content='To enable fractional scaling on Wayland in Step 2, follow these steps:\\n\\n- Browse to the horizontal line in the upper left corner, click to open it.\\n- Type out the word terminal, click to open it.\\n- Copy the code (gsettings set org.gnome.mutter experimental-features \"[\\'scale-monitor-framebuffer\\']\"):\\n  - You can use the little clipboard icon to the right of the code to copy to your clipboard.\\n- Paste the copied code in the terminal window by right-clicking and pressing Enter.\\n- After that, look for \"Scale\" in the Displays settings and set it to your preference.' response_metadata={'token_usage': {'prompt_tokens': 462, 'total_tokens': 608, 'completion_tokens': 146}, 'model': 'mistral-small', 'finish_reason': 'stop'} id='run-f41a2787-5e60-450a-bea7-e7ee34ee4938-0'\n",
      "\n",
      "\n",
      "evaluation score:3\n",
      "\n",
      "\n",
      "\n",
      "question:\n",
      "What should be clicked to open 'Mouse and Touchpad' in Step 3?\n",
      "\n",
      "\n",
      "ground truth:\n",
      "In Step 3, 'Mouse and Touchpad' can be clicked to open by looking for it under the 'mouse' option in the horizontal line in the upper left corner.\n"
     ]
    },
    {
     "name": "stderr",
     "output_type": "stream",
     "text": [
      "httpx-INFO|1026:  HTTP Request: POST https://api.mistral.ai/v1/chat/completions \"HTTP/1.1 200 OK\"\n",
      "httpx-INFO|1026:  HTTP Request: POST https://api.mistral.ai/v1/chat/completions \"HTTP/1.1 200 OK\"\n"
     ]
    },
    {
     "name": "stdout",
     "output_type": "stream",
     "text": [
      "\n",
      "\n",
      "generated answer:content='Type out the word mouse, look for Mouse and Touchpad, click to open it.\\nReason: The context provided describes how to enable tap to click on the touchpad, and the steps include typing \"mouse\" in the activities menu, looking for \"Mouse and Touchpad\", and clicking to open it.' response_metadata={'token_usage': {'prompt_tokens': 376, 'total_tokens': 439, 'completion_tokens': 63}, 'model': 'mistral-small', 'finish_reason': 'stop'} id='run-55df451a-39d2-4b8e-aee3-79d1b2cf636b-0'\n",
      "\n",
      "\n",
      "evaluation score:2\n",
      "\n",
      "\n",
      "\n",
      "question:\n",
      "Which option should be enabled under 'Clicking' in Step 3 to enable 'tap-to-click' on the touchpad?\n",
      "\n",
      "\n",
      "ground truth:\n",
      "To enable 'tap-to-click' on the touchpad in Step 3, 'Tap to Click' should be selected and enabled under 'Clicking'.\n"
     ]
    },
    {
     "name": "stderr",
     "output_type": "stream",
     "text": [
      "httpx-INFO|1026:  HTTP Request: POST https://api.mistral.ai/v1/chat/completions \"HTTP/1.1 200 OK\"\n",
      "httpx-INFO|1026:  HTTP Request: POST https://api.mistral.ai/v1/chat/completions \"HTTP/1.1 200 OK\"\n"
     ]
    },
    {
     "name": "stdout",
     "output_type": "stream",
     "text": [
      "\n",
      "\n",
      "generated answer:content='Under \"Clicking\", select Tap to Click and enable it.\\nReason: The context provided is relevant and the answer is based on the step-by-step instructions given.' response_metadata={'token_usage': {'prompt_tokens': 336, 'total_tokens': 373, 'completion_tokens': 37}, 'model': 'mistral-small', 'finish_reason': 'stop'} id='run-9a2ee3ef-3110-49e9-8de5-2ad5c8faf54b-0'\n",
      "\n",
      "\n",
      "evaluation score:4\n",
      "\n",
      "\n",
      "\n",
      "question:\n",
      "When will knowledge about declaring dependencies for a group of path operations be covered?\n",
      "\n",
      "\n",
      "ground truth:\n",
      "Knowledge about declaring dependencies for a group of path operations will be covered in the section about structuring bigger applications with multiple files.\n"
     ]
    },
    {
     "name": "stderr",
     "output_type": "stream",
     "text": [
      "httpx-INFO|1026:  HTTP Request: POST https://api.mistral.ai/v1/chat/completions \"HTTP/1.1 200 OK\"\n",
      "httpx-INFO|1026:  HTTP Request: POST https://api.mistral.ai/v1/chat/completions \"HTTP/1.1 200 OK\"\n"
     ]
    },
    {
     "name": "stdout",
     "output_type": "stream",
     "text": [
      "\n",
      "\n",
      "generated answer:content='The context provided is about declaring dependencies for a path operation in the context of some framework or library. The information about declaring a single `dependencies` parameter for a group of path operations is covered when reading about structuring bigger applications in multiple files. However, the specific topic of when knowledge about declaring dependencies for a group of path operations will be covered is not mentioned in the provided context.\\n\\nResponse: The context is relevant to the question, but I do not know the answer. Reason: The specific topic of when knowledge about declaring dependencies for a group of path operations will be covered is not mentioned in the provided context.' response_metadata={'token_usage': {'prompt_tokens': 859, 'total_tokens': 990, 'completion_tokens': 131}, 'model': 'mistral-small', 'finish_reason': 'stop'} id='run-3d508dc0-c8fa-406f-a421-5c0bada33a6b-0'\n",
      "\n",
      "\n",
      "evaluation score:3\n",
      "\n",
      "\n",
      "\n",
      "question:\n",
      "How can dependencies be added to FastAPI application?\n",
      "\n",
      "\n",
      "ground truth:\n",
      "Dependencies can be added to FastAPI application by using the `dependencies` parameter in the application constructor.\n"
     ]
    },
    {
     "name": "stderr",
     "output_type": "stream",
     "text": [
      "httpx-INFO|1026:  HTTP Request: POST https://api.mistral.ai/v1/chat/completions \"HTTP/1.1 200 OK\"\n",
      "httpx-INFO|1026:  HTTP Request: POST https://api.mistral.ai/v1/chat/completions \"HTTP/1.1 200 OK\"\n"
     ]
    },
    {
     "name": "stdout",
     "output_type": "stream",
     "text": [
      "\n",
      "\n",
      "generated answer:content='To add dependencies to a FastAPI application, you can use the `Depends()` function from the `fastapi` module. This function takes a callable and allows you to create dependencies that can have sub-dependencies, creating a hierarchy of dependencies. These dependencies can automatically handle data from requests and augment the path operation constraints and automatic documentation. They also support complex systems like user authentication and database connections, with no compromise to databases or frontends. FastAPI will automatically handle solving the dependencies.' response_metadata={'token_usage': {'prompt_tokens': 427, 'total_tokens': 529, 'completion_tokens': 102}, 'model': 'mistral-small', 'finish_reason': 'stop'} id='run-205087f9-f43c-4418-a87e-99b8c5877ba9-0'\n",
      "\n",
      "\n",
      "evaluation score:4\n",
      "\n",
      "\n",
      "\n",
      "question:\n",
      "What is the effect of adding dependencies to all path operations?\n",
      "\n",
      "\n",
      "ground truth:\n",
      "When dependencies are added to all path operations, they will be applied to all the path operations in the application.\n"
     ]
    },
    {
     "name": "stderr",
     "output_type": "stream",
     "text": [
      "httpx-INFO|1026:  HTTP Request: POST https://api.mistral.ai/v1/chat/completions \"HTTP/1.1 200 OK\"\n",
      "httpx-INFO|1026:  HTTP Request: POST https://api.mistral.ai/v1/chat/completions \"HTTP/1.1 200 OK\"\n"
     ]
    },
    {
     "name": "stdout",
     "output_type": "stream",
     "text": [
      "\n",
      "\n",
      "generated answer:content='Context is irrelevant to the question.\\n\\nor\\n\\nI do not know the answer. Reason: The provided context discusses the concept of dependency injection, its usage in path operations, and the configuration of a system include path, but it does not mention or discuss the effect of adding dependencies to all path operations.' response_metadata={'token_usage': {'prompt_tokens': 536, 'total_tokens': 601, 'completion_tokens': 65}, 'model': 'mistral-small', 'finish_reason': 'stop'} id='run-dee125dc-189e-4de4-a97c-d85d6a8a6999-0'\n",
      "\n",
      "\n",
      "evaluation score:2\n",
      "\n",
      "\n",
      "\n",
      "question:\n",
      "What is the recommended way to declare dependencies in FastAPI?\n",
      "\n",
      "\n",
      "ground truth:\n",
      "The recommended way to declare dependencies in FastAPI is by using the `Annotated` version, as it provides better type checking and error messages.\n"
     ]
    },
    {
     "name": "stderr",
     "output_type": "stream",
     "text": [
      "httpx-INFO|1026:  HTTP Request: POST https://api.mistral.ai/v1/chat/completions \"HTTP/1.1 200 OK\"\n",
      "httpx-INFO|1026:  HTTP Request: POST https://api.mistral.ai/v1/chat/completions \"HTTP/1.1 200 OK\"\n"
     ]
    },
    {
     "name": "stdout",
     "output_type": "stream",
     "text": [
      "\n",
      "\n",
      "generated answer:content='The recommended way to declare dependencies in FastAPI is by using the `Depends()` function, which takes a callable. You can import it directly from `fastapi`. You can use the same dependency functions you use normally when declaring dependencies. FastAPI will take care of solving them, including any sub-dependencies, which can be as deep as needed.' response_metadata={'token_usage': {'prompt_tokens': 284, 'total_tokens': 359, 'completion_tokens': 75}, 'model': 'mistral-small', 'finish_reason': 'stop'} id='run-a5a7a273-6bb9-41bb-890c-c08bef5ff43b-0'\n",
      "\n",
      "\n",
      "evaluation score:5\n",
      "\n",
      "\n",
      "\n",
      "question:\n",
      "What does the `jsonable_encoder` do in this context?\n",
      "\n",
      "\n",
      "ground truth:\n",
      "The `jsonable_encoder` is used to convert input data to data that can be stored as JSON, such as converting `datetime` to `str`.\n"
     ]
    },
    {
     "name": "stderr",
     "output_type": "stream",
     "text": [
      "httpx-INFO|1026:  HTTP Request: POST https://api.mistral.ai/v1/chat/completions \"HTTP/1.1 200 OK\"\n",
      "httpx-INFO|1026:  HTTP Request: POST https://api.mistral.ai/v1/chat/completions \"HTTP/1.1 200 OK\"\n"
     ]
    },
    {
     "name": "stdout",
     "output_type": "stream",
     "text": [
      "\n",
      "\n",
      "generated answer:content='The `jsonable_encoder` function converts Python objects, like Pydantic models, into JSON-compatible dictionaries. It also handles the conversion of non-JSON compatible types, such as `datetime` objects, into their JSON-compatible equivalents, like strings in ISO format. This function is useful when you need to store data in a JSON-compatible format in a database or send it as a response in a FastAPI application.' response_metadata={'token_usage': {'prompt_tokens': 1243, 'total_tokens': 1334, 'completion_tokens': 91}, 'model': 'mistral-small', 'finish_reason': 'stop'} id='run-cdb07e4c-1476-4625-bba1-dad9f8be0b02-0'\n",
      "\n",
      "\n",
      "evaluation score:5\n",
      "\n",
      "\n",
      "\n",
      "question:\n",
      "What does the `update` parameter do in Pydantic's `.model_copy()`?\n",
      "\n",
      "\n",
      "ground truth:\n",
      "The `update` parameter in Pydantic's `.model_copy()` creates a copy of the existing model and updates its attributes with the data to update.\n"
     ]
    },
    {
     "name": "stderr",
     "output_type": "stream",
     "text": [
      "httpx-INFO|1026:  HTTP Request: POST https://api.mistral.ai/v1/chat/completions \"HTTP/1.1 200 OK\"\n",
      "httpx-INFO|1026:  HTTP Request: POST https://api.mistral.ai/v1/chat/completions \"HTTP/1.1 200 OK\"\n"
     ]
    },
    {
     "name": "stdout",
     "output_type": "stream",
     "text": [
      "\n",
      "\n",
      "generated answer:content='The `update` parameter in Pydantic\\'s `.model_copy()` is used to create a copy of the existing model with updated data. It takes a `dict` containing the data to update.\\n\\nIn the provided context, `user_dict` is created from `user_in.dict()` and then used as an argument in `UserInDB(**user_dict)`. This is equivalent to `UserInDB(**user_in.dict())`, where `user_in.dict()` takes the data from the user input and \"unwrapps\" it to be passed to `UserInDB`.\\n\\nIf a PUT request is made to update the item `bar` with a body that doesn\\'t include the already stored attribute `\"tax\": 20.2`, the input model would take the default value of `\"tax\": 10.5`. The updated data would then be saved with the new `tax` value of `10.5`.' response_metadata={'token_usage': {'prompt_tokens': 794, 'total_tokens': 1006, 'completion_tokens': 212}, 'model': 'mistral-small', 'finish_reason': 'stop'} id='run-611632c1-6518-42eb-b89a-dededce14084-0'\n",
      "\n",
      "\n",
      "evaluation score:5\n",
      "\n",
      "\n",
      "\n",
      "question:\n",
      "What happens if an attribute is not included in a `PUT` request?\n",
      "\n",
      "\n",
      "ground truth:\n",
      "If an attribute is not included in a `PUT` request, the input model would take the default value of that attribute.\n"
     ]
    },
    {
     "name": "stderr",
     "output_type": "stream",
     "text": [
      "httpx-INFO|1026:  HTTP Request: POST https://api.mistral.ai/v1/chat/completions \"HTTP/1.1 200 OK\"\n",
      "httpx-INFO|1026:  HTTP Request: POST https://api.mistral.ai/v1/chat/completions \"HTTP/1.1 200 OK\"\n"
     ]
    },
    {
     "name": "stdout",
     "output_type": "stream",
     "text": [
      "\n",
      "\n",
      "generated answer:content='If an attribute is not included in a `PUT` request, the input model would take the default value for that attribute. In the provided context, if \"tax\" is not included in the request body, it would be saved with the default tax value of 10.5.' response_metadata={'token_usage': {'prompt_tokens': 1122, 'total_tokens': 1180, 'completion_tokens': 58}, 'model': 'mistral-small', 'finish_reason': 'stop'} id='run-59b419a2-791a-43c6-a9e8-ae94cc47a8f0-0'\n",
      "\n",
      "\n",
      "evaluation score:3\n",
      "\n",
      "\n",
      "\n",
      "question:\n",
      "What is the purpose of using the `exclude_unset` parameter in Pydantic's model's `.model_dump()`?\n",
      "\n",
      "\n",
      "ground truth:\n",
      "The `exclude_unset` parameter in Pydantic's model's `.model_dump()` generates a `dict` with only the data that was set when creating the model, excluding default values.\n"
     ]
    },
    {
     "name": "stderr",
     "output_type": "stream",
     "text": [
      "httpx-INFO|1026:  HTTP Request: POST https://api.mistral.ai/v1/chat/completions \"HTTP/1.1 200 OK\"\n",
      "httpx-INFO|1026:  HTTP Request: POST https://api.mistral.ai/v1/chat/completions \"HTTP/1.1 200 OK\"\n"
     ]
    },
    {
     "name": "stdout",
     "output_type": "stream",
     "text": [
      "\n",
      "\n",
      "generated answer:content=\"The `exclude_unset` parameter in Pydantic's model's `.model_dump()` is used to generate a dictionary containing only the data that was explicitly set when creating the Pydantic model instance. This can be useful for receiving partial updates, where only the provided fields are updated, and the rest are left unchanged. It omits default values from the resulting dictionary.\" response_metadata={'token_usage': {'prompt_tokens': 1016, 'total_tokens': 1099, 'completion_tokens': 83}, 'model': 'mistral-small', 'finish_reason': 'stop'} id='run-fb75841e-7b4d-4c01-99ce-0fb0797b95f3-0'\n",
      "\n",
      "\n",
      "evaluation score:4\n",
      "\n",
      "\n",
      "\n",
      "question:\n",
      "Which folders should be excluded for `webpack` and `webpack-dev-server`?\n",
      "\n",
      "\n",
      "ground truth:\n",
      "The content folder, for example `dist`, should be excluded for `webpack` and `webpack-dev-server`.\n"
     ]
    },
    {
     "name": "stderr",
     "output_type": "stream",
     "text": [
      "httpx-INFO|1026:  HTTP Request: POST https://api.mistral.ai/v1/chat/completions \"HTTP/1.1 200 OK\"\n",
      "httpx-INFO|1026:  HTTP Request: POST https://api.mistral.ai/v1/chat/completions \"HTTP/1.1 200 OK\"\n"
     ]
    },
    {
     "name": "stdout",
     "output_type": "stream",
     "text": [
      "\n",
      "\n",
      "generated answer:content='The folders that should be excluded for `webpack` and `webpack-dev-server` are the content folder, such as the `dist` folder. Additionally, the `node_modules` folder should be excluded for `webpack`.' response_metadata={'token_usage': {'prompt_tokens': 1067, 'total_tokens': 1115, 'completion_tokens': 48}, 'model': 'mistral-small', 'finish_reason': 'stop'} id='run-8d856314-f969-45d3-80e7-a4f28e3f6157-0'\n",
      "\n",
      "\n",
      "evaluation score:3\n",
      "\n",
      "\n",
      "\n",
      "question:\n",
      "Which folder should be excluded for `node` components?\n",
      "\n",
      "\n",
      "ground truth:\n",
      "The `node_modules` folder should be excluded for `node` components.\n"
     ]
    },
    {
     "name": "stderr",
     "output_type": "stream",
     "text": [
      "httpx-INFO|1026:  HTTP Request: POST https://api.mistral.ai/v1/chat/completions \"HTTP/1.1 200 OK\"\n",
      "httpx-INFO|1026:  HTTP Request: POST https://api.mistral.ai/v1/chat/completions \"HTTP/1.1 200 OK\"\n"
     ]
    },
    {
     "name": "stdout",
     "output_type": "stream",
     "text": [
      "\n",
      "\n",
      "generated answer:content='The `node_modules` folder should be excluded for `node` components.\\nReason: The context provides information that folders with JavaScript files that are not part of the source code for your project should be excluded, and specifically mentions that the `node_modules` folder should be excluded for `node` components.' response_metadata={'token_usage': {'prompt_tokens': 1164, 'total_tokens': 1229, 'completion_tokens': 65}, 'model': 'mistral-small', 'finish_reason': 'stop'} id='run-ce71b920-db69-467e-94e9-678c577ab332-0'\n",
      "\n",
      "\n",
      "evaluation score:2\n",
      "\n",
      "\n",
      "\n",
      "question:\n",
      "What is the role of \"include\" property in `jsconfig.json`?\n",
      "\n",
      "\n",
      "ground truth:\n",
      "The \"include\" property sets the files in your project explicitly. If no \"include\" attribute is present, then all files in the containing directory and subdirectories are included.\n"
     ]
    },
    {
     "name": "stderr",
     "output_type": "stream",
     "text": [
      "httpx-INFO|1026:  HTTP Request: POST https://api.mistral.ai/v1/chat/completions \"HTTP/1.1 200 OK\"\n",
      "httpx-INFO|1026:  HTTP Request: POST https://api.mistral.ai/v1/chat/completions \"HTTP/1.1 200 OK\"\n"
     ]
    },
    {
     "name": "stdout",
     "output_type": "stream",
     "text": [
      "\n",
      "\n",
      "generated answer:content='The `include` property in `jsconfig.json` is used to explicitly set the files in a project using a glob pattern. If specified, only the files matching the pattern will be included. If no `include` attribute is present, it defaults to including all files in the containing directory and subdirectories. The file paths in `include` are relative to the location of `jsconfig.json`.' response_metadata={'token_usage': {'prompt_tokens': 612, 'total_tokens': 695, 'completion_tokens': 83}, 'model': 'mistral-small', 'finish_reason': 'stop'} id='run-8fd9cd46-38d3-4bc6-b2ca-ed5ee5aa5443-0'\n",
      "\n",
      "\n",
      "evaluation score:5\n",
      "\n",
      "\n",
      "\n",
      "question:\n",
      "What does the \"target\" option in `jsconfig.json` do?\n",
      "\n",
      "\n",
      "ground truth:\n",
      "The \"target\" option specifies which default library (lib.d.ts) to use for type checking.\n"
     ]
    },
    {
     "name": "stderr",
     "output_type": "stream",
     "text": [
      "httpx-INFO|1026:  HTTP Request: POST https://api.mistral.ai/v1/chat/completions \"HTTP/1.1 200 OK\"\n",
      "httpx-INFO|1026:  HTTP Request: POST https://api.mistral.ai/v1/chat/completions \"HTTP/1.1 200 OK\"\n"
     ]
    },
    {
     "name": "stdout",
     "output_type": "stream",
     "text": [
      "\n",
      "\n",
      "generated answer:content='Context is irrelevant to the question.\\nReason:' response_metadata={'token_usage': {'prompt_tokens': 353, 'total_tokens': 363, 'completion_tokens': 10}, 'model': 'mistral-small', 'finish_reason': 'stop'} id='run-959a7492-0e5b-465b-bc43-67d49bf0b769-0'\n",
      "\n",
      "\n",
      "evaluation score:2\n",
      "\n",
      "\n",
      "\n",
      "question:\n",
      "How can you update variables that apply to the entire container in Docker Compose?\n",
      "\n",
      "\n",
      "ground truth:\n",
      "You can update (or extend) your 'docker-compose.yml' with the 'environment' property for the appropriate service.\n"
     ]
    },
    {
     "name": "stderr",
     "output_type": "stream",
     "text": [
      "httpx-INFO|1026:  HTTP Request: POST https://api.mistral.ai/v1/chat/completions \"HTTP/1.1 200 OK\"\n",
      "httpx-INFO|1026:  HTTP Request: POST https://api.mistral.ai/v1/chat/completions \"HTTP/1.1 200 OK\"\n"
     ]
    },
    {
     "name": "stdout",
     "output_type": "stream",
     "text": [
      "\n",
      "\n",
      "generated answer:content='To update variables that apply to the entire container in Docker Compose, you should update (or extend) your `docker-compose.yml` file with the `environment` key for the appropriate service, like this:\\n\\n```yaml\\nversion: \\'3\\'\\nservices:\\n  your-service-name-here:\\n    environment:\\n      - YOUR_ENV_VAR_NAME=your-value-goes-here\\n      - ANOTHER_VAR=another-value\\n    # ...\\n```\\n\\nAfter updating the `docker-compose.yml` file, you should rebuild the container using the \"Dev Containers: Rebuild Container\" command from the Command Palette (`kbstyle(F1)`) to pick up the change. Alternatively, you can connect to the container using the \"Dev Containers: Open Folder in Container...\" command.\\n\\nNote that you should verify that the \"Terminal > Integrated: Inherit Env\" setting is enabled in your settings to ensure that the variables you set are visible in the Integrated Terminal. This setting is enabled by default.' response_metadata={'token_usage': {'prompt_tokens': 885, 'total_tokens': 1129, 'completion_tokens': 244}, 'model': 'mistral-small', 'finish_reason': 'stop'} id='run-8fe58cf0-9943-4e80-b604-fc2310e3882c-0'\n",
      "\n",
      "\n",
      "evaluation score:5\n",
      "\n",
      "\n",
      "\n",
      "question:\n",
      "What is the purpose of using an 'env file' for environment variables?\n",
      "\n",
      "\n",
      "ground truth:\n",
      "The purpose of using an 'env file' is to set a large number of environment variables.\n"
     ]
    },
    {
     "name": "stderr",
     "output_type": "stream",
     "text": [
      "httpx-INFO|1026:  HTTP Request: POST https://api.mistral.ai/v1/chat/completions \"HTTP/1.1 200 OK\"\n",
      "httpx-INFO|1026:  HTTP Request: POST https://api.mistral.ai/v1/chat/completions \"HTTP/1.1 200 OK\"\n"
     ]
    },
    {
     "name": "stdout",
     "output_type": "stream",
     "text": [
      "\n",
      "\n",
      "generated answer:content=\"The purpose of using an 'env file' for environment variables is to define key-value pairs for debugging, tool execution such as linters, formatters, IntelliSense, testing tools, and in some cases, for managing different configurations like development and production servers. These files are not cross-platform and need to be compatible with the operating system in use. The Python extension in Visual Studio Code looks for and loads a file named `.env` by default for these variable definitions.\" response_metadata={'token_usage': {'prompt_tokens': 1203, 'total_tokens': 1303, 'completion_tokens': 100}, 'model': 'mistral-small', 'finish_reason': 'stop'} id='run-ddc344fb-e6eb-40bd-b296-be59d911d575-0'\n",
      "\n",
      "\n",
      "evaluation score:5\n",
      "\n",
      "\n",
      "\n",
      "question:\n",
      "What is the purpose of 'containerEnv' property in 'devcontainer.json'?\n",
      "\n",
      "\n",
      "ground truth:\n",
      "The 'containerEnv' property in 'devcontainer.json' sets variables that should apply to the entire container.\n"
     ]
    },
    {
     "name": "stderr",
     "output_type": "stream",
     "text": [
      "httpx-INFO|1026:  HTTP Request: POST https://api.mistral.ai/v1/chat/completions \"HTTP/1.1 200 OK\"\n",
      "httpx-INFO|1026:  HTTP Request: POST https://api.mistral.ai/v1/chat/completions \"HTTP/1.1 200 OK\"\n"
     ]
    },
    {
     "name": "stdout",
     "output_type": "stream",
     "text": [
      "\n",
      "\n",
      "generated answer:content='The `containerEnv` property in `devcontainer.json` sets variables that should apply to the entire container. It can reference local variables.' response_metadata={'token_usage': {'prompt_tokens': 1252, 'total_tokens': 1281, 'completion_tokens': 29}, 'model': 'mistral-small', 'finish_reason': 'stop'} id='run-1f6164b1-9a31-488f-b5bb-33de3e437fd1-0'\n",
      "\n",
      "\n",
      "evaluation score:4\n",
      "\n",
      "\n",
      "\n",
      "question:\n",
      "What variable can 'remoteEnv' reference in 'devcontainer.json'?\n",
      "\n",
      "\n",
      "ground truth:\n",
      "'remoteEnv' can reference both local and existing container variables in 'devcontainer.json'.\n"
     ]
    },
    {
     "name": "stderr",
     "output_type": "stream",
     "text": [
      "httpx-INFO|1026:  HTTP Request: POST https://api.mistral.ai/v1/chat/completions \"HTTP/1.1 200 OK\"\n",
      "httpx-INFO|1026:  HTTP Request: POST https://api.mistral.ai/v1/chat/completions \"HTTP/1.1 200 OK\"\n"
     ]
    },
    {
     "name": "stdout",
     "output_type": "stream",
     "text": [
      "\n",
      "\n",
      "generated answer:content=\"The 'remoteEnv' variable in 'devcontainer.json' can reference both local and existing container variables. This is useful for setting variables for VS Code and related sub-processes, such as terminals, tasks, and debugging.\" response_metadata={'token_usage': {'prompt_tokens': 731, 'total_tokens': 781, 'completion_tokens': 50}, 'model': 'mistral-small', 'finish_reason': 'stop'} id='run-0ae8d442-cfd7-4d9c-aab2-249adfbc308b-0'\n",
      "\n",
      "\n",
      "evaluation score:3\n",
      "\n",
      "\n",
      "\n",
      "question:\n",
      "What feature of VS Code is used for PHP language diagnostics?\n",
      "\n",
      "\n",
      "ground truth:\n",
      "VS Code uses the official PHP linter (`php -l`) for PHP language diagnostics.\n"
     ]
    },
    {
     "name": "stderr",
     "output_type": "stream",
     "text": [
      "httpx-INFO|1026:  HTTP Request: POST https://api.mistral.ai/v1/chat/completions \"HTTP/1.1 200 OK\"\n",
      "httpx-INFO|1026:  HTTP Request: POST https://api.mistral.ai/v1/chat/completions \"HTTP/1.1 200 OK\"\n"
     ]
    },
    {
     "name": "stdout",
     "output_type": "stream",
     "text": [
      "\n",
      "\n",
      "generated answer:content='The feature of VS Code used for PHP language diagnostics is the official PHP linter, which now uses the `php -l` command for diagnostics. The two new settings to control the PHP linter are _php.validate.executablePath_ and _php.validate.run_.' response_metadata={'token_usage': {'prompt_tokens': 374, 'total_tokens': 435, 'completion_tokens': 61}, 'model': 'mistral-small', 'finish_reason': 'stop'} id='run-2fc3317f-8bb0-421b-adbe-a14eaa4e1756-0'\n",
      "\n",
      "\n",
      "evaluation score:4\n",
      "\n",
      "\n",
      "\n",
      "question:\n",
      "How to disable built-in PHP support in VS Code?\n",
      "\n",
      "\n",
      "ground truth:\n",
      "To disable the built-in PHP smart completions in favor of suggestions from an installed PHP extension, uncheck **PHP > Suggest: Basic** in the settings.\n"
     ]
    },
    {
     "name": "stderr",
     "output_type": "stream",
     "text": [
      "httpx-INFO|1026:  HTTP Request: POST https://api.mistral.ai/v1/chat/completions \"HTTP/1.1 200 OK\"\n",
      "httpx-INFO|1026:  HTTP Request: POST https://api.mistral.ai/v1/chat/completions \"HTTP/1.1 200 OK\"\n"
     ]
    },
    {
     "name": "stdout",
     "output_type": "stream",
     "text": [
      "\n",
      "\n",
      "generated answer:content='To disable built-in PHP support in VS Code, you can set the `php.validate.enable` setting to `false` in your User or Workspace Settings. This will turn off PHP linting. If you want to completely remove the PHP language server, you can use the **Disable All Installed Extensions** command in the Command Palette and re-enable the other extensions manually.' response_metadata={'token_usage': {'prompt_tokens': 856, 'total_tokens': 939, 'completion_tokens': 83}, 'model': 'mistral-small', 'finish_reason': 'stop'} id='run-669baf1f-cfc5-41ed-9fac-60bf2aaab7a4-0'\n",
      "\n",
      "\n",
      "evaluation score:5\n",
      "\n",
      "\n",
      "\n",
      "question:\n",
      "How to change the PHP settings in VS Code?\n",
      "\n",
      "\n",
      "ground truth:\n",
      "To change the PHP settings, open your User or Workspace Settings (`kb(workbench.action.openSettings)`) and type 'php' to filter the list of available settings.\n"
     ]
    },
    {
     "name": "stderr",
     "output_type": "stream",
     "text": [
      "httpx-INFO|1026:  HTTP Request: POST https://api.mistral.ai/v1/chat/completions \"HTTP/1.1 200 OK\"\n",
      "httpx-INFO|1026:  HTTP Request: POST https://api.mistral.ai/v1/chat/completions \"HTTP/1.1 200 OK\"\n"
     ]
    },
    {
     "name": "stdout",
     "output_type": "stream",
     "text": [
      "\n",
      "\n",
      "generated answer:content='Reason: The context provided is irrelevant to the question. The information given is about customizing settings in VS Code, creating a data folder for VS Code, and setting environment variables, but it does not mention how to change PHP settings in VS Code.' response_metadata={'token_usage': {'prompt_tokens': 616, 'total_tokens': 670, 'completion_tokens': 54}, 'model': 'mistral-small', 'finish_reason': 'stop'} id='run-3086c1b0-c2d0-457b-a1d3-f8efbc991c4e-0'\n",
      "\n",
      "\n",
      "evaluation score:2\n",
      "\n",
      "\n",
      "\n",
      "question:\n",
      "What is required to use XDebug for PHP debugging in VS Code?\n",
      "\n",
      "\n",
      "ground truth:\n",
      "PHP debugging with **XDebug** is supported through a [PHP Debug extension](https://marketplace.visualstudio.com/items?itemName=xdebug.php-debug). Follow the extension's instructions for configuring **XDebug** to work with VS Code.\n"
     ]
    },
    {
     "name": "stderr",
     "output_type": "stream",
     "text": [
      "httpx-INFO|1026:  HTTP Request: POST https://api.mistral.ai/v1/chat/completions \"HTTP/1.1 200 OK\"\n",
      "httpx-INFO|1026:  HTTP Request: POST https://api.mistral.ai/v1/chat/completions \"HTTP/1.1 200 OK\"\n"
     ]
    },
    {
     "name": "stdout",
     "output_type": "stream",
     "text": [
      "\n",
      "\n",
      "generated answer:content='To use XDebug for PHP debugging in VS Code, you need to follow these steps:\\n\\n1. Install the PHP Debug extension from the VS Code marketplace.\\n2. Configure XDebug to work with VS Code by following the extension\\'s instructions.\\n3. Set the PHP executable path in VS Code settings if the PHP executable is not on the system path.\\n4. Create and set up a `launch.json` file located in your workspace\\'s `.vscode` folder for browser debugging configurations.\\n\\nIf all the context provided is irrelevant, the response would be \"Context is irrelevant to the question\".\\nIf you cannot answer the question confidently, the response would be \"I do not know the answer\" for the reasons stated above.' response_metadata={'token_usage': {'prompt_tokens': 1163, 'total_tokens': 1331, 'completion_tokens': 168}, 'model': 'mistral-small', 'finish_reason': 'stop'} id='run-51f59f76-c03c-4f50-a973-40742aa7f342-0'\n",
      "\n",
      "\n",
      "evaluation score:5\n",
      "\n",
      "\n",
      "\n"
     ]
    }
   ],
   "source": [
    "from agents.rag_agents import RagAgent\n",
    "\n",
    "\n",
    "rag_agent = RagAgent()\n",
    "responses = []\n",
    "\n",
    "for question, answer in qnas:\n",
    "\n",
    "\n",
    "    print('question:')\n",
    "\n",
    "    print(question)\n",
    "    \n",
    "\n",
    "\n",
    "    print('\\n\\nground truth:')\n",
    "    print(answer)\n",
    "    \n",
    "\n",
    "    response = rag_agent.answer_with_rag(question)\n",
    "    responses.append(response)\n",
    "    \n",
    "    print(f'\\n\\ngenerated answer:{response.answer}')\n",
    "    print(f'\\n\\nevaluation score:{response.evaluation_score}')\n",
    "\n",
    "    \n",
    "    print('\\n\\n')"
   ]
  },
  {
   "cell_type": "code",
   "execution_count": 73,
   "metadata": {},
   "outputs": [],
   "source": [
    "from dataclasses import asdict\n",
    "\n",
    "t = ''\n",
    "for response, qna in zip(responses, qnas):\n",
    "    for k,v in asdict(response).items():\n",
    "        t += k.capitalize() + '\\n'\n",
    "        t += '-'*40 + '\\n'\n",
    "        if k.lower().strip() == 'documents':\n",
    "            t += '\\n\\n'.join([i.page_content for i in v]) + '\\n\\n'\n",
    "        elif k.lower().strip() == 'evaluation': \n",
    "            t += v.content + '\\n\\n'\n",
    "        elif k.lower().strip() == 'answer':\n",
    "            t += v.content + '\\n\\n'\n",
    "        else:\n",
    "            t += str(v) + '\\n\\n'\n",
    "        \n",
    "    t += 'ground truth answer'.capitalize() + '\\n'\n",
    "    t += qna[1] + '\\n\\n'\n",
    "    \n",
    "    t += '='*100\n",
    "    t += '\\n\\n'"
   ]
  },
  {
   "cell_type": "code",
   "execution_count": 74,
   "metadata": {},
   "outputs": [
    {
     "data": {
      "text/plain": [
       "144962"
      ]
     },
     "execution_count": 74,
     "metadata": {},
     "output_type": "execute_result"
    }
   ],
   "source": [
    "from config.project_paths import project_root\n",
    "\n",
    "o = project_root/'synthetic_data_generation'/'trial2.txt'\n",
    "o.write_text(t)"
   ]
  },
  {
   "cell_type": "code",
   "execution_count": 89,
   "metadata": {},
   "outputs": [
    {
     "name": "stderr",
     "output_type": "stream",
     "text": [
      "httpx-INFO|1026:  HTTP Request: POST https://api.mistral.ai/v1/chat/completions \"HTTP/1.1 200 OK\"\n",
      "httpx-INFO|1026:  HTTP Request: POST https://api.mistral.ai/v1/chat/completions \"HTTP/1.1 200 OK\"\n"
     ]
    },
    {
     "name": "stdout",
     "output_type": "stream",
     "text": [
      "To implement EKS observability, you can use the AWS Distro for OpenTelemetry (ADOT) Operator in your Amazon EKS cluster.\n",
      "This makes it easier for your applications running on EKS to send metric and trace data to monitoring services like\n",
      "Amazon CloudWatch, Prometheus, and X-Ray. Additionally, you can use Amazon GuardDuty for threat detection in your EKS\n",
      "clusters, which offers features like EKS Protection and Runtime Monitoring. The GuardDuty service can help protect your\n",
      "accounts, containers, workloads, and data within your AWS environment. To configure the EKS Pod Identity Agent add-on,\n",
      "you can use the EKS console and follow the steps provided in the context.\n"
     ]
    }
   ],
   "source": [
    "response = rag_agent.answer_with_rag('implement eks observability')\n",
    "print_long_text(response.answer.content)"
   ]
  },
  {
   "cell_type": "code",
   "execution_count": 91,
   "metadata": {},
   "outputs": [
    {
     "data": {
      "text/plain": [
       "AIMessage(content='Score (1-5): 3\\nAnswered: Yes, but could be more specific.\\n\\nThe answer does provide some information on how to implement EKS observability, but it could be more specific and provide a step-by-step guide or example. The response mentions using the AWS Distro for OpenTelemetry (ADOT) Operator, Amazon CloudWatch, Prometheus, X-Ray, and Amazon GuardDuty for threat detection, but it would be helpful to provide more details or examples on how to use these tools. Additionally, the answer mentions configuring the EKS Pod Identity Agent add-on, but it would be helpful to provide more context or a link to documentation for further reading.', response_metadata={'token_usage': {'prompt_tokens': 382, 'total_tokens': 533, 'completion_tokens': 151}, 'model': 'mistral-small', 'finish_reason': 'stop'}, id='run-2015ae0b-d9ca-49a0-aef0-34571065730f-0')"
      ]
     },
     "execution_count": 91,
     "metadata": {},
     "output_type": "execute_result"
    }
   ],
   "source": [
    "response.evaluation_score"
   ]
  }
 ],
 "metadata": {
  "kernelspec": {
   "display_name": "venv",
   "language": "python",
   "name": "python3"
  },
  "language_info": {
   "codemirror_mode": {
    "name": "ipython",
    "version": 3
   },
   "file_extension": ".py",
   "mimetype": "text/x-python",
   "name": "python",
   "nbconvert_exporter": "python",
   "pygments_lexer": "ipython3",
   "version": "3.10.2"
  }
 },
 "nbformat": 4,
 "nbformat_minor": 2
}
