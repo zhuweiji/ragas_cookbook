{
 "cells": [
  {
   "cell_type": "code",
   "execution_count": 1,
   "metadata": {},
   "outputs": [
    {
     "name": "stderr",
     "output_type": "stream",
     "text": [
      "c:\\Users\\zhuwe\\OneDrive\\Desktop\\projects\\ragas_cookbook\\venv\\lib\\site-packages\\tqdm\\auto.py:21: TqdmWarning: IProgress not found. Please update jupyter and ipywidgets. See https://ipywidgets.readthedocs.io/en/stable/user_install.html\n",
      "  from .autonotebook import tqdm as notebook_tqdm\n"
     ]
    }
   ],
   "source": [
    "from synthetic_data_generation.rag_data import DataGenerator\n",
    "from retrievers.chroma import ExtendedChromaMarkdownRetriever\n",
    "from chunkers.markdown_chunker import MarkdownChunker\n",
    "\n",
    "from config.project_paths import project_root, source_document_directory"
   ]
  },
  {
   "cell_type": "code",
   "execution_count": 2,
   "metadata": {},
   "outputs": [],
   "source": [
    "retriever = ExtendedChromaMarkdownRetriever()"
   ]
  },
  {
   "cell_type": "code",
   "execution_count": 3,
   "metadata": {},
   "outputs": [],
   "source": [
    "selected_document = 'accessibility.md'\n",
    "\n",
    "selected_document_path = source_document_directory / 'vscode' / selected_document\n",
    "text = selected_document_path.read_text()\n",
    "\n",
    "toc = MarkdownChunker.get_table_of_contents(selected_document_path)"
   ]
  },
  {
   "cell_type": "code",
   "execution_count": 4,
   "metadata": {},
   "outputs": [
    {
     "data": {
      "text/plain": [
       "19303"
      ]
     },
     "execution_count": 4,
     "metadata": {},
     "output_type": "execute_result"
    }
   ],
   "source": [
    "len(text)"
   ]
  },
  {
   "cell_type": "code",
   "execution_count": 5,
   "metadata": {},
   "outputs": [],
   "source": [
    "from langchain_text_splitters import RecursiveCharacterTextSplitter\n",
    "\n",
    "text_splitter = RecursiveCharacterTextSplitter(\n",
    "    # Set a really small chunk size, just to show.\n",
    "    chunk_size=6000,\n",
    "    chunk_overlap=400,\n",
    "    length_function=len,\n",
    "    is_separator_regex=False,\n",
    ")"
   ]
  },
  {
   "cell_type": "code",
   "execution_count": 6,
   "metadata": {},
   "outputs": [],
   "source": [
    "docs = text_splitter.create_documents([text])"
   ]
  },
  {
   "cell_type": "code",
   "execution_count": 7,
   "metadata": {},
   "outputs": [
    {
     "name": "stdout",
     "output_type": "stream",
     "text": [
      "Assigning a color to the background of `editorError` and `editorWarning` also helps to identify potential issues. The\n",
      "color that you choose will highlight the respective error or warning. The colors shown in the preceding example,\n",
      "`#ffef0f` (yellow) and `#37777ff` (blue), are more accessible to individuals with common forms of color vision\n",
      "deficiencies.  ### Selecting accessible colors  The accessibility of colors is subjective to the type of anomalous\n",
      "trichromacy (color blindness). The level of severity ranges per person and can be divided into four condition types:  |\n",
      "Condition      |   Type    | |       ---        |    ---    | |   Deuteranopia   |   Reduced sensitivity to green light.\n",
      "It is the most common form of color blindness. |   Protanopia     |   Reduced sensitivity to red light. |   Tritanopia\n",
      "|   Reduced sensitivity to blue light. This condition is considered rare. |   Monochromia    |   The inability to see\n",
      "all colors, also referred to as achromatopsia. More information about the rarest form of color blindness: [Foundation\n",
      "for Fighting Blindness](https://www.fightingblindness.org/diseases/achromatopsia).  One of the best approaches to\n",
      "selecting the best colors for a specific condition is to apply complementary colors. These are colors located opposite\n",
      "of one another on a color wheel.  ![Color wheel highlighting complementary colors for regular vision, deuteranopia,\n",
      "protanopia, tritanopia and monochromacy](images/accessibility/accessibility-color-wheels.png)  >**Note**: For more\n",
      "information on finding complementary colors, access the color blind simulator and interactive color wheel at [Adobe\n",
      "Color](https://color.adobe.com/create/color-accessibility).  ## Dim unfocused editors and terminals  Unfocused views can\n",
      "be dimmed to make it clearer where typed input will go. This is especially useful when working with multiple editor\n",
      "groups or terminals. Turn on this feature by setting `\"accessibility.dimUnfocused.enabled\": true`. You can control the\n",
      "dimness level with `accessibility.dimUnfocused.opacity`, which takes the opacity fraction from 0.2 to 1 (default 0.75).\n",
      "## Keyboard navigation  VS Code provides an exhaustive list of commands in the **Command Palette**\n",
      "(`kb(workbench.action.showCommands)`) so that you can use VS Code without a mouse. Press\n",
      "`kb(workbench.action.showCommands)`, then type a command name (for example 'git') to filter the list of commands.  VS\n",
      "Code also has many preset keyboard shortcuts for commands.  ![Key bindings for commands are displayed at the end of the\n",
      "command palette entry](images/accessibility/keyboard-shortcuts.png)  You can also set your own keyboard shortcuts.\n",
      "**File** > **Preferences** > **Keyboard Shortcuts** (`kb(workbench.action.openGlobalKeybindings)`) opens the Keyboard\n",
      "Shortcuts editor, where you can discover and modify key bindings for VS Code actions. See [Key\n",
      "Bindings](/docs/getstarted/keybindings.md) for more details on customizing or adding your own keyboard shortcuts.  For\n",
      "quick navigation across the workbench, we recommend using **Focus Next Part** (`kb(workbench.action.focusNextPart)`) and\n",
      "**Focus Previous Part** (`kb(workbench.action.focusPreviousPart)`) commands.  ### Anchor selection  To make it easier to\n",
      "start and end selections with the keyboard, there are four commands: **Set Selection Anchor**\n",
      "(`kb(editor.action.setSelectionAnchor)`), **Select From Anchor to Cursor**\n",
      "(`kb(editor.action.selectFromAnchorToCursor)`), **Cancel Selection Anchor** (`kb(editor.action.cancelSelectionAnchor)`)\n",
      "and **Go to Selection Anchor**.  ## Tab navigation  You can use the `kbstyle(Tab)` key to navigate between UI controls\n",
      "in VS Code. Use `kbstyle(Shift+Tab)` to tab in reverse order. As you tab through the UI controls, an indicator will\n",
      "appear around each UI element when it has focus.  All elements in the workbench support tab navigation. To avoid having\n",
      "too many tab stops, workbench toolbars and tab lists each have only one. Once a toolbar or a tab list has focus, you can\n",
      "use the arrow keys to navigate within them.  > **Note**: Tab navigation goes in the visually natural order, with the\n",
      "exception of WebViews (like Markdown preview). For WebViews, we recommend using the `kb(workbench.action.focusNextPart)`\n",
      "and `kb(workbench.action.focusPreviousPart)` commands to navigate between the WebViews and the rest of the workbench.\n",
      "Alternatively, you can use one of many Focus Editor commands.  ## Tab trapping  By default, pressing `kbstyle(Tab)`\n",
      "within a source code file inserts the Tab character (or spaces depending on your indentation setting) and does not leave\n",
      "the open file. You can toggle `kbstyle(Tab)` trapping with `kb(editor.action.toggleTabFocusMode)`, and subsequent\n",
      "`kbstyle(Tab)` keys will move focus out of the file.  When default `kbstyle(Tab)` trapping is off, you will see a **Tab\n",
      "moves focus** indicator in the Status Bar.  Tab trapping also exists in the integrated terminal. The default behavior\n",
      "for the feature can be configured with `editor.tabFocusMode`.  ![A Tab moves focus status bar item shows when the mode\n",
      "is active](images/accessibility/tab-moves-focus.png)  You can also toggle `kbstyle(Tab)` trapping on and off from the\n",
      "**Command Palette** (`kb(workbench.action.showCommands)`) with the **Toggle Tab Key Moves Focus** action.  Read-only\n",
      "files never trap the `kbstyle(Tab)` key. The **Integrated Terminal** panel respects the `kbstyle(Tab)` trapping mode and\n",
      "can be toggled with `kb(editor.action.toggleTabFocusMode)`.  ## Screen readers  VS Code supports screen readers in the\n",
      "editor using a strategy based on text pagination. The following screen readers have been tested:  * Windows:\n",
      "[NVDA](https://www.nvaccess.org) and [JAWS](https://www.freedomscientific.com/products/software/jaws) * macOS:\n",
      "[VoiceOver](https://support.apple.com/guide/voiceover/welcome/mac) * Linux:\n",
      "[Orca](https://help.gnome.org/users/orca/stable/introduction.html)\n"
     ]
    }
   ],
   "source": [
    "from utilities import print_long_text\n",
    "\n",
    "\n",
    "print_long_text(docs[1].page_content)"
   ]
  },
  {
   "cell_type": "code",
   "execution_count": 12,
   "metadata": {},
   "outputs": [
    {
     "name": "stderr",
     "output_type": "stream",
     "text": [
      " 25%|██▌       | 1/4 [00:03<00:09,  3.01s/it]"
     ]
    },
    {
     "name": "stdout",
     "output_type": "stream",
     "text": [
      "content='Question: VS Code zoom level\\nAnswer: You can adjust the zoom level in VS Code with the **View** > **Appearance** > **Zoom** commands. The default value is 0 and each increment/decrement changes the zoom level by 20 percent.\\n\\nQuestion: VS Code high contrast theme\\nAnswer: VS Code supports a High Contrast color theme on all platforms. Use **File** > **Preferences** > **Theme** > **Color Theme** to display the **Select Color Theme** dropdown and select the **High Contrast** theme.' response_metadata={'token_usage': {'prompt_tokens': 2232, 'total_tokens': 2357, 'completion_tokens': 125}, 'model': 'mistral-small', 'finish_reason': 'stop'} id='run-85a4f0ba-c434-4238-b20c-5579358e17da-0'\n"
     ]
    },
    {
     "name": "stderr",
     "output_type": "stream",
     "text": [
      " 50%|█████     | 2/4 [00:05<00:05,  2.56s/it]"
     ]
    },
    {
     "name": "stdout",
     "output_type": "stream",
     "text": [
      "content='Question: color accessibility\\nAnswer: The accessibility of colors is subjective to the type of anomalous trichromacy (color blindness). The level of severity ranges per person and can be divided into four condition types: Deuteranopia, Protanopia, Tritanopia, and Monochromia. One of the best approaches to selecting the best colors for a specific condition is to apply complementary colors.\\n\\nQuestion: tab navigation focus\\nAnswer: You can use the `kbstyle(Tab)` key to navigate between UI controls in VS Code, with an indicator appearing around each UI element when it has focus. This also works in the integrated terminal and can be toggled with `kb(editor.action.toggleTabFocusMode)`.' response_metadata={'token_usage': {'prompt_tokens': 2140, 'total_tokens': 2305, 'completion_tokens': 165}, 'model': 'mistral-small', 'finish_reason': 'stop'} id='run-6450c150-d4b5-4a34-8e87-232990e8e221-0'\n"
     ]
    },
    {
     "name": "stderr",
     "output_type": "stream",
     "text": [
      " 75%|███████▌  | 3/4 [00:06<00:02,  2.05s/it]"
     ]
    },
    {
     "name": "stdout",
     "output_type": "stream",
     "text": [
      "content='Question: NVDA focus mode\\nAnswer: It is recommended to stay in focus mode for NVDA and use hotkeys to navigate instead of browse mode.\\n\\nQuestion: Screen reader optimized mode\\nAnswer: VS Code goes into screen reader optimized mode for UI such as the editor and Integrated Terminal when it detects that a screen reader is being used.' response_metadata={'token_usage': {'prompt_tokens': 2095, 'total_tokens': 2174, 'completion_tokens': 79}, 'model': 'mistral-small', 'finish_reason': 'stop'} id='run-f7b0f972-55e2-4cac-9cac-0f0f57272596-0'\n"
     ]
    },
    {
     "name": "stderr",
     "output_type": "stream",
     "text": [
      "100%|██████████| 4/4 [00:08<00:00,  2.14s/it]"
     ]
    },
    {
     "name": "stdout",
     "output_type": "stream",
     "text": [
      "content='Question: Accessibility signals sounds?\\nAnswer: The command **Help: List Signal Sounds** lists all available accessibility signal sounds, lets you hear each as you move through the list, and allows for configuring their enabled/disabled status.\\n\\nQuestion: Orca silent Linux?\\nAnswer: If Orca in your Linux distribution does not read the editor content, ensure that the setting `\"editor.accessibilitySupport\": \"on\"` is enabled in VS Code. Additionally, try setting `ACCESSIBILITY_ENABLED=1` as an environment variable to resolve the issue.' response_metadata={'token_usage': {'prompt_tokens': 1176, 'total_tokens': 1298, 'completion_tokens': 122}, 'model': 'mistral-small', 'finish_reason': 'stop'} id='run-2593c5ba-7754-42fa-99fc-96fd9492ae42-0'\n"
     ]
    },
    {
     "name": "stderr",
     "output_type": "stream",
     "text": [
      "\n"
     ]
    }
   ],
   "source": [
    "from tqdm import tqdm\n",
    "\n",
    "generator = DataGenerator()\n",
    "\n",
    "results = []\n",
    "for i in tqdm(docs):\n",
    "    q_a = generator.generate_questions_from_document__search_engine_style_query(i, 2)\n",
    "    print(q_a)\n",
    "    results.append(q_a)"
   ]
  },
  {
   "cell_type": "code",
   "execution_count": 13,
   "metadata": {},
   "outputs": [
    {
     "data": {
      "text/plain": [
       "2044"
      ]
     },
     "execution_count": 13,
     "metadata": {},
     "output_type": "execute_result"
    }
   ],
   "source": [
    "f = project_root / 'synthetic_data_generation' / 'data.txt'  \n",
    "t = ''\n",
    "for i in results:\n",
    "    t += i.content\n",
    "    t += '\\n\\n'\n",
    "    \n",
    "f.write_text(t)"
   ]
  },
  {
   "cell_type": "code",
   "execution_count": 14,
   "metadata": {},
   "outputs": [
    {
     "ename": "",
     "evalue": "",
     "output_type": "error",
     "traceback": [
      "\u001b[1;31mThe Kernel crashed while executing code in the current cell or a previous cell. \n",
      "\u001b[1;31mPlease review the code in the cell(s) to identify a possible cause of the failure. \n",
      "\u001b[1;31mClick <a href='https://aka.ms/vscodeJupyterKernelCrash'>here</a> for more info. \n",
      "\u001b[1;31mView Jupyter <a href='command:jupyter.viewOutput'>log</a> for further details."
     ]
    }
   ],
   "source": [
    "qa_tuples = generator.extract_qa_tuples(t)"
   ]
  },
  {
   "cell_type": "code",
   "execution_count": 11,
   "metadata": {},
   "outputs": [
    {
     "data": {
      "text/plain": [
       "[('VS Code zoom commands',\n",
       "  'The zoom commands in VS Code are View > Appearance > Zoom In, View > Appearance > Zoom Out, and View > Appearance > Reset Zoom.'),\n",
       " ('VS Code high contrast theme',\n",
       "  'To enable the High Contrast theme in VS Code, go to File > Preferences > Theme > Color Theme and select High Contrast.'),\n",
       " ('Customize warning colors in VS Code',\n",
       "  'To customize warning colors in VS Code, go to File > Preferences > Settings, search for \"color customizations\", and edit the Workbench: Color Customizations setting in the user settings.json file. You can assign a color to the editorWarning.foreground object.'),\n",
       " ('color meaning accessibility',\n",
       "  'The colors used in highlighting `editorError` and `editorWarning` are chosen considering their accessibility to individuals with color vision deficiencies.'),\n",
       " ('keyboard shortcuts commands',\n",
       "  'VS Code provides an exhaustive list of commands in the Command Palette, which can be used without a mouse. Press `kb(workbench.action.showCommands)` and type a command name to filter the list of commands.'),\n",
       " ('tab navigation controls',\n",
       "  'In VS Code, you can use the `kbstyle(Tab)` key to navigate between UI controls and an indicator will appear around each UI element when it has focus.'),\n",
       " ('NVDA focus mode',\n",
       "  'It is recommended to stay in focus mode and use hotkeys to navigate with NVDA instead of browse mode.'),\n",
       " ('Go to next error',\n",
       "  \"The 'Go to Next/Previous Error or Warning' actions allow screen readers to announce error and warning messages.\"),\n",
       " ('Accessible diff viewer',\n",
       "  \"The Accessible Diff Viewer presents changes in a unified patch format and can be navigated with 'Go to Next/Previous Difference' actions.\"),\n",
       " ('Accessibility signals sounds?',\n",
       "  \"The command 'Help: List Signal Sounds' lists all available sounds, lets you hear each as you move through the list, and allows for configuring their enabled/disabled status.\"),\n",
       " ('Hover accessibility lock?',\n",
       "  'Hold the \\'kbstyle(Alt)\\' or \\'kbstyle(Option)\\' key while a hover is active to \"lock\" it in place so that it won\\'t hide when hovered. Release the key to unlock the hover.'),\n",
       " ('Orca screen reader VS Code?',\n",
       "  \"VS Code works well with the Orca screen reader on Linux. If Orca in your Linux distribution does not read the editor content, make sure to have the setting 'editor.accessibilitySupport': 'on' in VS Code and set 'ACCESSIBILITY_ENABLED=1' as an environment variable.\")]"
      ]
     },
     "execution_count": 11,
     "metadata": {},
     "output_type": "execute_result"
    }
   ],
   "source": [
    "qa_tuples"
   ]
  },
  {
   "cell_type": "code",
   "execution_count": null,
   "metadata": {},
   "outputs": [],
   "source": []
  }
 ],
 "metadata": {
  "kernelspec": {
   "display_name": "venv",
   "language": "python",
   "name": "python3"
  },
  "language_info": {
   "codemirror_mode": {
    "name": "ipython",
    "version": 3
   },
   "file_extension": ".py",
   "mimetype": "text/x-python",
   "name": "python",
   "nbconvert_exporter": "python",
   "pygments_lexer": "ipython3",
   "version": "3.10.2"
  }
 },
 "nbformat": 4,
 "nbformat_minor": 2
}
