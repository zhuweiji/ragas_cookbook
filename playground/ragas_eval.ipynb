{
 "cells": [
  {
   "cell_type": "code",
   "execution_count": 1,
   "metadata": {},
   "outputs": [
    {
     "name": "stderr",
     "output_type": "stream",
     "text": [
      "c:\\Users\\zhuwe\\OneDrive\\Desktop\\projects\\ragas_cookbook\\venv\\lib\\site-packages\\tqdm\\auto.py:21: TqdmWarning: IProgress not found. Please update jupyter and ipywidgets. See https://ipywidgets.readthedocs.io/en/stable/user_install.html\n",
      "  from .autonotebook import tqdm as notebook_tqdm\n"
     ]
    }
   ],
   "source": [
    "import dataclasses\n",
    "import json\n",
    "from dataclasses import dataclass\n",
    "from pathlib import Path\n",
    "\n",
    "import ragas\n",
    "from datasets import Dataset\n",
    "from ragas import evaluate\n",
    "from ragas.metrics import answer_correctness, faithfulness\n",
    "\n",
    "from agents.basic_agents import BasicAgent\n",
    "from agents.rag_agents import RagAgent"
   ]
  },
  {
   "cell_type": "markdown",
   "metadata": {},
   "source": [
    "this notebook contains code to try to implement an agent that evaluates the rag pipeline\n",
    "\n",
    "starting with basic rag"
   ]
  },
  {
   "cell_type": "code",
   "execution_count": 2,
   "metadata": {},
   "outputs": [],
   "source": [
    "from synthetic_data_generation.generate_syn_data import csv_to_list\n",
    "from config.project_paths import synthetic_data_dir\n",
    "import random\n",
    "qna_dir = list(synthetic_data_dir.glob('*.csv'))\n",
    "qnas = csv_to_list(qna_dir[0])\n",
    "qnas = random.sample(qnas, 3)"
   ]
  },
  {
   "cell_type": "code",
   "execution_count": 5,
   "metadata": {},
   "outputs": [],
   "source": [
    "rag_agent = RagAgent()"
   ]
  },
  {
   "cell_type": "code",
   "execution_count": 6,
   "metadata": {},
   "outputs": [],
   "source": [
    "results = []\n",
    "\n",
    "for question, answer in qnas:\n",
    "    response = rag_agent.answer_with_rag(question)\n",
    "    results.append((response, answer))"
   ]
  },
  {
   "cell_type": "code",
   "execution_count": 15,
   "metadata": {},
   "outputs": [
    {
     "name": "stdout",
     "output_type": "stream",
     "text": [
      "Accessibility signal sounds and announcements are played when the primary cursor changes its line or the first time a\n",
      "marker is added to the current line. They can be enabled automatically when a screen reader is attached and can be\n",
      "controlled by the settings `accessibility.signals.*`. The commands **Help: List Signal Sounds** and **Help: List Signal\n",
      "Announcements** inform the user of available sounds and announcements and allow for configuring their enabled/disabled\n",
      "status.\n"
     ]
    }
   ],
   "source": [
    "from utilities import print_long_text\n",
    "\n",
    "\n",
    "print_long_text(results[2][0].answer.content)"
   ]
  },
  {
   "cell_type": "markdown",
   "metadata": {},
   "source": [
    "the above code should be reformulated to able to form the dataset below and run ragas.evaluate"
   ]
  },
  {
   "cell_type": "code",
   "execution_count": null,
   "metadata": {},
   "outputs": [],
   "source": [
    "\n",
    "data_samples = {\n",
    "    'question': ['When was the first super bowl?', 'Who won the most super bowls?'],\n",
    "    'answer': ['The first superbowl was held on Jan 15, 1967', 'The most super bowls have been won by The New England Patriots'],\n",
    "    'contexts': [['The First AFL-NFL World Championship Game was an American football game played on January 15, 1967, at the Los Angeles Memorial Coliseum in Los Angeles,'],\n",
    "                 ['The Green Bay Packers...Green Bay, Wisconsin.', 'The Packers compete...Football Conference']],\n",
    "    'ground_truth': ['The first superbowl was held on January 15, 1967', 'The New England Patriots have won the Super Bowl a record six times']\n",
    "}\n",
    "\n",
    "dataset = Dataset.from_dict(data_samples)\n",
    "\n",
    "\n",
    "agent = BasicAgent()\n",
    "score = evaluate(dataset,\n",
    "                 metrics=[faithfulness, answer_correctness],\n",
    "                 llm=agent.llm,\n",
    "                 embeddings=agent.retriever.embedding_function,\n",
    "                 )\n",
    "score.to_pandas()\n",
    "\n",
    "print(score)"
   ]
  }
 ],
 "metadata": {
  "kernelspec": {
   "display_name": "venv",
   "language": "python",
   "name": "python3"
  },
  "language_info": {
   "codemirror_mode": {
    "name": "ipython",
    "version": 3
   },
   "file_extension": ".py",
   "mimetype": "text/x-python",
   "name": "python",
   "nbconvert_exporter": "python",
   "pygments_lexer": "ipython3",
   "version": "3.10.2"
  }
 },
 "nbformat": 4,
 "nbformat_minor": 2
}
