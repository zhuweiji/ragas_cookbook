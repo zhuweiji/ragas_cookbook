{
 "cells": [
  {
   "cell_type": "code",
   "execution_count": null,
   "metadata": {},
   "outputs": [],
   "source": [
    "from agents import Agent\n",
    "from utilities import print_long_text"
   ]
  },
  {
   "cell_type": "code",
   "execution_count": null,
   "metadata": {},
   "outputs": [],
   "source": [
    "agent = Agent()"
   ]
  },
  {
   "cell_type": "code",
   "execution_count": null,
   "metadata": {},
   "outputs": [],
   "source": [
    "question = 'what is AWS Chalice?'\n",
    "\n",
    "documents = agent.retriever._get_relevant_documents(question)\n",
    "answer = agent.answer_question(\n",
    "    question, documents)\n",
    "\n",
    "print_long_text(answer.content)"
   ]
  },
  {
   "cell_type": "code",
   "execution_count": null,
   "metadata": {},
   "outputs": [],
   "source": [
    "evaluation = agent.evaluate_answer(question, answer)\n",
    "print_long_text(evaluation.content)"
   ]
  },
  {
   "cell_type": "code",
   "execution_count": null,
   "metadata": {},
   "outputs": [],
   "source": [
    "from langchain_core.documents import Document\n",
    "\n",
    "irrelevant_document = \"The emerald chalice pulsed with an otherworldly light, a stark contrast to the dusty catacombs where it lay hidden. Etchings of forgotten constellations danced across its surface, whispering secrets only the wind dared to hear.\"\n",
    "documents = agent.retriever._get_relevant_documents(question)\n",
    "answer = agent.answer_question(\n",
    "    question, [Document(irrelevant_document)])\n",
    "\n",
    "print_long_text(answer.content)"
   ]
  },
  {
   "cell_type": "code",
   "execution_count": null,
   "metadata": {},
   "outputs": [],
   "source": [
    "evaluation = agent.evaluate_answer(question, answer)\n",
    "print_long_text(evaluation.content)"
   ]
  },
  {
   "cell_type": "code",
   "execution_count": null,
   "metadata": {},
   "outputs": [],
   "source": [
    "document_evaluation = agent.evaluate_document_relevance(question, irrelevant_document)\n",
    "print_long_text(answer.content)"
   ]
  },
  {
   "cell_type": "code",
   "execution_count": null,
   "metadata": {},
   "outputs": [],
   "source": [
    "route = agent.try_document_toc_irrelevant_document(question, document_evaluation, irrelevant_document)"
   ]
  },
  {
   "cell_type": "code",
   "execution_count": null,
   "metadata": {},
   "outputs": [],
   "source": [
    "print_long_text(route.content)"
   ]
  },
  {
   "cell_type": "code",
   "execution_count": null,
   "metadata": {},
   "outputs": [],
   "source": []
  }
 ],
 "metadata": {
  "kernelspec": {
   "display_name": "venv",
   "language": "python",
   "name": "python3"
  },
  "language_info": {
   "codemirror_mode": {
    "name": "ipython",
    "version": 3
   },
   "file_extension": ".py",
   "mimetype": "text/x-python",
   "name": "python",
   "nbconvert_exporter": "python",
   "pygments_lexer": "ipython3",
   "version": "3.10.2"
  }
 },
 "nbformat": 4,
 "nbformat_minor": 2
}
