{
 "cells": [
  {
   "cell_type": "code",
   "execution_count": 1,
   "metadata": {},
   "outputs": [
    {
     "name": "stderr",
     "output_type": "stream",
     "text": [
      "c:\\Users\\zhuwe\\OneDrive\\Desktop\\projects\\ragas_cookbook\\venv\\lib\\site-packages\\tqdm\\auto.py:21: TqdmWarning: IProgress not found. Please update jupyter and ipywidgets. See https://ipywidgets.readthedocs.io/en/stable/user_install.html\n",
      "  from .autonotebook import tqdm as notebook_tqdm\n"
     ]
    }
   ],
   "source": [
    "from agents import Agent\n",
    "from utilities import print_long_text"
   ]
  },
  {
   "cell_type": "code",
   "execution_count": 2,
   "metadata": {},
   "outputs": [],
   "source": [
    "agent = Agent()"
   ]
  },
  {
   "cell_type": "code",
   "execution_count": 5,
   "metadata": {},
   "outputs": [],
   "source": [
    "import logging\n",
    "import re\n",
    "\n",
    "logging.basicConfig(format='%(name)s-%(levelname)s|%(lineno)d:  %(message)s', level=logging.INFO)\n",
    "log = logging.getLogger(__name__)\n",
    "\n",
    "def reretrieve__toc(question):\n",
    "    documents = agent.retriever._get_relevant_documents(question)\n",
    "\n",
    "    answer = agent.answer_question(\n",
    "        question, documents)\n",
    "\n",
    "    print('\\nanswer:')\n",
    "    print_long_text(answer.content)\n",
    "    \n",
    "    print('\\nevaluation:')\n",
    "    evaluation = agent.evaluate_answer(question, answer)\n",
    "    print_long_text(evaluation.content)\n",
    "    \n",
    "    match = re.search(r\"Score \\(1-5\\): (\\d+)\", evaluation.content)\n",
    "\n",
    "    if match:\n",
    "        score = match.group(1)\n",
    "        print(f\"Extracted score: {score}\")\n",
    "        \n",
    "        try:\n",
    "            if int(score.strip()) < 4:\n",
    "                new_answer = agent.regenerate_new_answer_from_evaluation(question, answer, evaluation)\n",
    "                print('\\n\\n regenerated answer:')\n",
    "                print_long_text(new_answer.content)\n",
    "        except Exception as e:\n",
    "            print(e)\n",
    "        \n",
    "    else:\n",
    "        print(\"Score not found in the string.\")\n",
    "    \n",
    "    print('\\n\\ndocs:')\n",
    "    \n",
    "    for i in documents:\n",
    "        print(i.metadata)\n",
    "        print_long_text(i.page_content)"
   ]
  },
  {
   "cell_type": "code",
   "execution_count": 6,
   "metadata": {},
   "outputs": [
    {
     "name": "stderr",
     "output_type": "stream",
     "text": [
      "httpx-INFO|1026:  HTTP Request: POST https://api.mistral.ai/v1/chat/completions \"HTTP/1.1 200 OK\"\n"
     ]
    },
    {
     "name": "stdout",
     "output_type": "stream",
     "text": [
      "\n",
      "answer:\n",
      "To implement code completion in Visual Studio Code, you can use the \"Language Support for Java™ by Red Hat\" extension\n",
      "for Java, which is powered by the same Java development tools (JDT) behind Eclipse. For other languages, you can use the\n",
      "built-in IntelliSense or AI-assisted IntelliSense called IntelliCode, which saves time by putting the most likely\n",
      "completion at the top of the list. It is also possible to adapt sample extensions provided by Microsoft to implement\n",
      "code completion. The specific implementation will depend on the programming language and the desired features of the\n",
      "code completion.\n",
      "\n",
      "evaluation:\n"
     ]
    },
    {
     "name": "stderr",
     "output_type": "stream",
     "text": [
      "httpx-INFO|1026:  HTTP Request: POST https://api.mistral.ai/v1/chat/completions \"HTTP/1.1 200 OK\"\n"
     ]
    },
    {
     "name": "stdout",
     "output_type": "stream",
     "text": [
      "Score (1-5): 3 Answered: Yes, but the answer could be more specific and concise.  For a score of 5, the response should\n",
      "have been something like: \"To implement code completion in Visual Studio Code, you can use language-specific extensions\n",
      "or the built-in IntelliSense/IntelliCode. Specifically for Java, you can use the 'Language Support for Java™ by Red Hat'\n",
      "extension.\"\n",
      "Extracted score: 3\n"
     ]
    },
    {
     "name": "stderr",
     "output_type": "stream",
     "text": [
      "httpx-INFO|1026:  HTTP Request: POST https://api.mistral.ai/v1/chat/completions \"HTTP/1.1 200 OK\"\n"
     ]
    },
    {
     "name": "stdout",
     "output_type": "stream",
     "text": [
      "\n",
      "\n",
      " regenerated answer:\n",
      "Revised answer: To implement code completion in Visual Studio Code, you can use language-specific extensions or the\n",
      "built-in IntelliSense/IntelliCode. For Java, a highly-rated extension is \"Language Support for Java™ by Red Hat,\" which\n",
      "is powered by the same Java development tools (JDT) behind Eclipse. For other languages, check out the built-in options\n",
      "or additional extensions. This will enhance your coding experience by suggesting completions, saving time and increasing\n",
      "accuracy.  Information provided is now more specific and concise, addressing the requested implementation of code\n",
      "completion in Visual Studio Code.\n",
      "\n",
      "\n",
      "docs:\n",
      "{'Header 1': 'August 2016 (version 1.5)', 'Header 2': 'Extension Authoring', 'Header 3': 'Powerful Completion Items', 'document_index': 31, 'filename': 'v1_5.md', 'table_of_contents': '1 : # August 2016 (version 1.5)\\n2 : ## 1.5.3 Fully Translated Build\\n3 : ## 1.5.2 Recovery Build\\n4 : ## 1.5.1 Recovery Build\\n5 : ## August Release Summary\\n6 : ## Workbench\\n7 : ### File Icon Themes\\n8 : ### Key binding support within the Integrated Terminal\\n9 : ## Editor\\n10: ### Editor settings\\n11: ### Auto Save when application loses focus\\n12: ### Quick Open got a lot quicker\\n13: ### Keep Quick Open visible even when focus is outside\\n14: ### Include symbol results in file Quick Open results\\n15: ### New actions to move Tabs left or right within a group\\n16: ### Closed editors reopen at their previous index\\n17: ### Mac OS: Cmd+E no longer opens Quick Open\\n18: ## Languages\\n19: ### TypeScript\\n20: ### HTML\\n21: ### LESS\\n22: ### Settings to enable/disable Emmet for languages\\n23: ### Linter Extensions\\n24: ## Extensions\\n25: ### Easier Updates\\n26: ### Extension Contribution Details View\\n27: ### Extension Sorting\\n28: ### Marketplace Performance Improvements\\n29: ## Debugging\\n30: ### Suggestions in Debug Console\\n31: ### MultiLine Debug Console Input\\n32: ### Multi-Level Variable Paging\\n33: ## Node Debugging\\n34: ### Launch debug target in Integrated Terminal\\n35: ## Extension Authoring\\n36: ### Editor Commands\\n37: ### Powerful Completion Items\\n38: ### Stable Input Box and Quick Open\\n39: ### New context menu keys\\n40: ### New Theme Settings\\n41: ### Integrated Terminal API\\n42: ### Additions to the Debug Protocol\\n43: ## Engineering\\n44: ## Notable Changes\\n45: ## Monaco Editor 0.6.0\\n46: ## Downloads\\n47: ## Thank You'}\n",
      "The [`Completion Item`](https://github.com/microsoft/vscode/blob/main/src/vs/vscode.d.ts#L2246) now supports additional\n",
      "text edits and an additional command.   With those, you can do rich things like:   * Add an import statement when\n",
      "completing a symbol. * Add a library to the project when completing.\n",
      "{'Header 1': 'JavaScript in Visual Studio Code', 'Header 2': 'Enhance completions with AI', 'document_index': 19, 'filename': 'javascript.md', 'table_of_contents': '1 : # JavaScript in Visual Studio Code\\n2 : ## IntelliSense\\n3 : ## JavaScript projects (jsconfig.json)\\n4 : ## Snippets\\n5 : ## JSDoc support\\n6 : ## Hover Information\\n7 : ## Signature Help\\n8 : ## Auto imports\\n9 : ## Formatting\\n10: ## JSX and auto closing tags\\n11: ## Code navigation\\n12: ## Rename\\n13: ## Refactoring\\n14: ## Unused variables and unreachable code\\n15: ## Organize Imports\\n16: ## Code Actions on Save\\n17: ## Code suggestions\\n18: ## Enhance completions with AI\\n19: ## Inlay hints\\n20: ## References CodeLens\\n21: ## Update imports on file move\\n22: ## Linters\\n23: ## Type checking\\n24: ## Debugging\\n25: ### Debug client side\\n26: ### Debug server side\\n27: ## Popular extensions\\n28: ## Next steps\\n29: ## Common questions\\n30: ### Does VS Code support JSX and React Native?\\n31: ### Does VS Code support the Dart programming language and the Flutter framework?\\n32: ### IntelliSense is not working for external libraries\\n33: ### Can I debug minified/uglified JavaScript?\\n34: ### How do I disable Syntax Validation when using non-ES6 constructs?\\n35: ### Can I use other JavaScript tools like Flow?'}\n",
      "[GitHub Copilot](https://copilot.github.com/) is an AI-powered code completion tool that helps you write code faster and\n",
      "smarter. You can use the [GitHub Copilot extension](https://marketplace.visualstudio.com/items?itemName=GitHub.copilot)\n",
      "in VS Code to generate code, or to learn from the code it generates.   [![GitHub Copilot extension in the VS Code\n",
      "Marketplace](images/javascript/copilot-\n",
      "extension.png)](https://marketplace.visualstudio.com/items?itemName=GitHub.copilot)   GitHub Copilot provides\n",
      "suggestions for numerous languages and a wide variety of frameworks, and it works especially well for Python,\n",
      "JavaScript, TypeScript, Ruby, Go, C# and C++.   You can learn more about how to get started with Copilot in the [Copilot\n",
      "documentation](/docs/editor/github-copilot.md).   Once you have the Copilot extension installed and enabled, you can\n",
      "test it our for your JavaScript projects.   Create a new file - you can use the **File: New File** command in the\n",
      "Command Palette (`kbstyle(F1)`).   In the JavaScript file, type the following function header:   ```js function\n",
      "calculateDaysBetweenDates(begin, end) { ```   Copilot will provide a suggestion like the following - use `kbstyle(Tab)`\n",
      "to accept the suggestion:   ![Copilot JavaScript ghost text suggestion](images/javascript/js-suggest.png)\n",
      "{'Header 1': 'Navigate and edit Java source code', 'Header 2': 'IntelliSense', 'document_index': 17, 'filename': 'java-editing.md', 'table_of_contents': '1 : # Navigate and edit Java source code\\n2 : ## Code navigation\\n3 : ## Search for symbols\\n4 : ### Search for symbols in the workspace\\n5 : ### Search for symbols in current file\\n6 : ## Peek Definition\\n7 : ## Go to Definition\\n8 : ## Go to Super Implementation\\n9 : ## Call Hierarchy\\n10: ## Type Hierarchy\\n11: ## Folding regions\\n12: ## Smart Selection\\n13: ## Semantic Highlighting\\n14: ## Navigating code with Spring Boot\\n15: ## Code editing\\n16: ## IntelliSense\\n17: ## Create new file\\n18: ## Code snippets\\n19: ### Code snippet shortcuts\\n20: ### Postfix snippet shortcuts'}\n",
      "Code completion in Visual Studio Code for Java is provided by [Language Support for Javaâ„¢ by Red\n",
      "Hat](https://marketplace.visualstudio.com/items?itemName=redhat.java). The extension is powered by the same [Java\n",
      "development tools (JDT)](https://www.eclipse.org/jdt/) behind Eclipse, so you can expect the same level of support.   In\n",
      "addition, there's also AI-assisted IntelliSense called\n",
      "[IntelliCode](https://visualstudio.microsoft.com/services/intellicode/). It saves you time by putting what you're most\n",
      "likely to use at the top of your completion list. IntelliCode recommendations are based on thousands of open-source\n",
      "projects on GitHub each with over 100 stars, so it's trained on the most common usages from high-quality projects. When\n",
      "combined with the context of your code, the completion list is tailored to promote those practices. Here's IntelliCode\n",
      "for Java in action.   <video autoplay loop muted playsinline controls title=\"IntelliSense code completion suggestions\">\n",
      "<source src=\"/docs/java/java-editing/intellicode.mp4\" type=\"video/mp4\"> </video>   IntelliCode works well with popular\n",
      "Java libraries and frameworks like Java SE and Spring. It will help you whether you are doing monolithic web apps or\n",
      "modern microservices.\n",
      "{'Header 1': 'Wrapping Up', 'Header 2': 'Guides & Samples', 'document_index': 6, 'filename': 'wrapping-up.md', 'table_of_contents': '1 : # DO NOT TOUCH â€” Managed by doc writer\\n2 : # Summarize the whole topic in less than 300 characters for SEO purpose\\n3 : # Wrapping Up\\n4 : ## Extension Capabilities\\n5 : ## Guides & Samples\\n6 : ## UX Guidelines\\n7 : ## Testing and Publishing'}\n",
      "We have a great collection of sample extensions that you can adapt from, and some of them include a detailed guide that\n",
      "explains the source code. You can find all samples and guides in the [Extension Guide Listing](/api/extension-\n",
      "guides/overview) or the [vscode-extension-samples](https://github.com/microsoft/vscode-extension-samples) repository.\n"
     ]
    }
   ],
   "source": [
    "reretrieve__toc('how to implement code completion vscode')"
   ]
  },
  {
   "cell_type": "code",
   "execution_count": null,
   "metadata": {},
   "outputs": [],
   "source": [
    "from langchain_core.documents import Document\n",
    "\n",
    "irrelevant_document = \"The emerald chalice pulsed with an otherworldly light, a stark contrast to the dusty catacombs where it lay hidden. Etchings of forgotten constellations danced across its surface, whispering secrets only the wind dared to hear.\"\n",
    "documents = agent.retriever._get_relevant_documents(question)\n",
    "answer = agent.answer_question(\n",
    "    question, [Document(irrelevant_document)])\n",
    "\n",
    "print_long_text(answer.content)"
   ]
  },
  {
   "cell_type": "code",
   "execution_count": null,
   "metadata": {},
   "outputs": [],
   "source": [
    "evaluation = agent.evaluate_answer(question, answer)\n",
    "print_long_text(evaluation.content)"
   ]
  },
  {
   "cell_type": "code",
   "execution_count": null,
   "metadata": {},
   "outputs": [],
   "source": [
    "document_evaluation = agent.evaluate_document_relevance(question, irrelevant_document)\n",
    "print_long_text(answer.content)"
   ]
  },
  {
   "cell_type": "code",
   "execution_count": null,
   "metadata": {},
   "outputs": [],
   "source": [
    "route = agent.try_document_toc_irrelevant_document(question, document_evaluation, irrelevant_document)"
   ]
  },
  {
   "cell_type": "code",
   "execution_count": null,
   "metadata": {},
   "outputs": [],
   "source": [
    "print_long_text(route.content)"
   ]
  },
  {
   "cell_type": "code",
   "execution_count": null,
   "metadata": {},
   "outputs": [],
   "source": []
  }
 ],
 "metadata": {
  "kernelspec": {
   "display_name": "venv",
   "language": "python",
   "name": "python3"
  },
  "language_info": {
   "codemirror_mode": {
    "name": "ipython",
    "version": 3
   },
   "file_extension": ".py",
   "mimetype": "text/x-python",
   "name": "python",
   "nbconvert_exporter": "python",
   "pygments_lexer": "ipython3",
   "version": "3.10.2"
  }
 },
 "nbformat": 4,
 "nbformat_minor": 2
}
