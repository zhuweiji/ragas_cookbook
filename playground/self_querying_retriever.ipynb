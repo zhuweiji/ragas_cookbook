{
 "cells": [
  {
   "cell_type": "code",
   "execution_count": 1,
   "metadata": {},
   "outputs": [
    {
     "name": "stderr",
     "output_type": "stream",
     "text": [
      "c:\\Users\\zhuwe\\OneDrive\\Desktop\\projects\\ragas_cookbook\\venv\\lib\\site-packages\\tqdm\\auto.py:21: TqdmWarning: IProgress not found. Please update jupyter and ipywidgets. See https://ipywidgets.readthedocs.io/en/stable/user_install.html\n",
      "  from .autonotebook import tqdm as notebook_tqdm\n"
     ]
    }
   ],
   "source": [
    "from agents import Agent\n",
    "from utilities import print_long_text"
   ]
  },
  {
   "cell_type": "code",
   "execution_count": 2,
   "metadata": {},
   "outputs": [],
   "source": [
    "agent = Agent()"
   ]
  },
  {
   "cell_type": "code",
   "execution_count": 3,
   "metadata": {},
   "outputs": [
    {
     "name": "stdout",
     "output_type": "stream",
     "text": [
      "\n",
      "\n",
      "\u001b[1m> Entering new RunnableSequence chain...\u001b[0m\n",
      "\n",
      "\n",
      "\u001b[1m> Entering new ChatPromptTemplate chain...\u001b[0m\n",
      "\n",
      "\u001b[1m> Finished chain.\u001b[0m\n",
      "\n",
      "\u001b[1m> Finished chain.\u001b[0m\n",
      "AWS Chalice is a serverless microframework for Python that makes it easy to build and deploy applications on AWS. In the\n",
      "provided context, it is used to create a serverless REST API that uses Amazon API Gateway, AWS Lambda, and Amazon\n",
      "DynamoDB to track daily cases of COVID-19 in the United States.\n"
     ]
    }
   ],
   "source": [
    "question = 'what is AWS Chalice?'\n",
    "\n",
    "documents = agent.retriever._get_relevant_documents(question)\n",
    "answer = agent.answer_question(\n",
    "    question, documents)\n",
    "\n",
    "print_long_text(answer.content)"
   ]
  },
  {
   "cell_type": "code",
   "execution_count": 4,
   "metadata": {},
   "outputs": [
    {
     "name": "stdout",
     "output_type": "stream",
     "text": [
      "\n",
      "\n",
      "\u001b[1m> Entering new RunnableSequence chain...\u001b[0m\n",
      "\n",
      "\n",
      "\u001b[1m> Entering new ChatPromptTemplate chain...\u001b[0m\n",
      "\n",
      "\u001b[1m> Finished chain.\u001b[0m\n",
      "\n",
      "\u001b[1m> Finished chain.\u001b[0m\n",
      "Score (1-5): 5 Answered: Yes  The answer is correct and provides a clear definition of AWS Chalice. It highlights the\n",
      "serverless nature of the microframework and its compatibility with Python, while also mentioning its use in creating a\n",
      "serverless REST API for tracking daily COVID-19 cases in the United States.\n"
     ]
    }
   ],
   "source": [
    "evaluation = agent.evaluate_answer(question, answer)\n",
    "print_long_text(evaluation.content)"
   ]
  },
  {
   "cell_type": "code",
   "execution_count": 5,
   "metadata": {},
   "outputs": [
    {
     "name": "stdout",
     "output_type": "stream",
     "text": [
      "\n",
      "\n",
      "\u001b[1m> Entering new RunnableSequence chain...\u001b[0m\n",
      "\n",
      "\n",
      "\u001b[1m> Entering new ChatPromptTemplate chain...\u001b[0m\n",
      "\n",
      "\u001b[1m> Finished chain.\u001b[0m\n",
      "\n",
      "\u001b[1m> Finished chain.\u001b[0m\n",
      "Context is irrelevant to the question. Reason: The provided context is a descriptive text about an object called \"the\n",
      "emerald chalice,\" which is unrelated to AWS Chalice, which is a serverless microframework for AWS.\n"
     ]
    }
   ],
   "source": [
    "from langchain_core.documents import Document\n",
    "\n",
    "irrelevant_document = \"The emerald chalice pulsed with an otherworldly light, a stark contrast to the dusty catacombs where it lay hidden. Etchings of forgotten constellations danced across its surface, whispering secrets only the wind dared to hear.\"\n",
    "documents = agent.retriever._get_relevant_documents(question)\n",
    "answer = agent.answer_question(\n",
    "    question, [Document(irrelevant_document)])\n",
    "\n",
    "print_long_text(answer.content)"
   ]
  },
  {
   "cell_type": "code",
   "execution_count": 6,
   "metadata": {},
   "outputs": [
    {
     "name": "stdout",
     "output_type": "stream",
     "text": [
      "\n",
      "\n",
      "\u001b[1m> Entering new RunnableSequence chain...\u001b[0m\n",
      "\n",
      "\n",
      "\u001b[1m> Entering new ChatPromptTemplate chain...\u001b[0m\n",
      "\n",
      "\u001b[1m> Finished chain.\u001b[0m\n",
      "\n",
      "\u001b[1m> Finished chain.\u001b[0m\n",
      "Score (1-5): 2 Answered: No  The answer is somewhat off-topic. AWS Chalice refers to a serverless microframework for\n",
      "AWS, but the provided answer talks about an emerald chalice, which is unrelated.\n"
     ]
    }
   ],
   "source": [
    "evaluation = agent.evaluate_answer(question, answer)\n",
    "print_long_text(evaluation.content)"
   ]
  },
  {
   "cell_type": "code",
   "execution_count": 1,
   "metadata": {},
   "outputs": [],
   "source": [
    "from chunkers.markdown_chunker import MarkdownChunker"
   ]
  },
  {
   "cell_type": "code",
   "execution_count": 2,
   "metadata": {},
   "outputs": [],
   "source": [
    "from config.project_paths import source_document_directory\n",
    "docs = MarkdownChunker.split(source_document_directory /\n",
    "                      'delete-managed-node-group.md')"
   ]
  },
  {
   "cell_type": "code",
   "execution_count": 3,
   "metadata": {},
   "outputs": [
    {
     "data": {
      "text/plain": [
       "{'Header 1': 'Deleting a managed node group<a name=\"delete-managed-node-group\"></a>',\n",
       " 'filename': 'delete-managed-node-group.md',\n",
       " 'table_of_contents': '# Deleting a managed node group<a name=\"delete-managed-node-group\"></a>\\n#### [ eksctl ]\\n#### [ AWS Management Console ]\\n#### [ AWS CLI ]',\n",
       " 'document_index': 1}"
      ]
     },
     "execution_count": 3,
     "metadata": {},
     "output_type": "execute_result"
    }
   ],
   "source": [
    "docs[0].metadata"
   ]
  },
  {
   "cell_type": "code",
   "execution_count": null,
   "metadata": {},
   "outputs": [],
   "source": []
  }
 ],
 "metadata": {
  "kernelspec": {
   "display_name": "venv",
   "language": "python",
   "name": "python3"
  },
  "language_info": {
   "codemirror_mode": {
    "name": "ipython",
    "version": 3
   },
   "file_extension": ".py",
   "mimetype": "text/x-python",
   "name": "python",
   "nbconvert_exporter": "python",
   "pygments_lexer": "ipython3",
   "version": "3.10.2"
  }
 },
 "nbformat": 4,
 "nbformat_minor": 2
}
